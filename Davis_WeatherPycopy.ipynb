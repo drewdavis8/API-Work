{
 "cells": [
  {
   "cell_type": "markdown",
   "metadata": {},
   "source": [
    "# WeatherPy\n",
    "----\n",
    "\n",
    "#### Note\n",
    "* Instructions have been included for each segment. You do not have to follow them exactly, but they are included to help you think through the steps."
   ]
  },
  {
   "cell_type": "code",
   "execution_count": 1,
   "metadata": {
    "scrolled": true
   },
   "outputs": [],
   "source": [
    "# Dependencies and Setup\n",
    "import matplotlib.pyplot as plt\n",
    "import pandas as pd\n",
    "import numpy as np\n",
    "import requests\n",
    "import time\n",
    "from scipy.stats import linregress\n",
    "import api_keys\n",
    "\n",
    "\n",
    "# Import API key\n",
    "from api_keys import weather_api_key\n",
    "\n",
    "# Incorporated citipy to determine city based on latitude and longitude\n",
    "from citipy import citipy\n",
    "\n",
    "# Output File (CSV)\n",
    "output_data_file = \"output_data/cities.csv\"\n",
    "\n",
    "# Range of latitudes and longitudes\n",
    "lat_range = (-90, 90)\n",
    "lng_range = (-180, 180)"
   ]
  },
  {
   "cell_type": "markdown",
   "metadata": {},
   "source": [
    "## Generate Cities List"
   ]
  },
  {
   "cell_type": "code",
   "execution_count": 2,
   "metadata": {},
   "outputs": [
    {
     "data": {
      "text/plain": [
       "601"
      ]
     },
     "execution_count": 2,
     "metadata": {},
     "output_type": "execute_result"
    }
   ],
   "source": [
    "# List for holding lat_lngs and cities\n",
    "lat_lngs = []\n",
    "cities = []\n",
    "\n",
    "# Create a set of random lat and lng combinations\n",
    "lats = np.random.uniform(lat_range[0], lat_range[1], size=1500)\n",
    "lngs = np.random.uniform(lng_range[0], lng_range[1], size=1500)\n",
    "lat_lngs = zip(lats, lngs)\n",
    "\n",
    "# Identify nearest city for each lat, lng combination\n",
    "for lat_lng in lat_lngs:\n",
    "    city = citipy.nearest_city(lat_lng[0], lat_lng[1]).city_name\n",
    "    \n",
    "    # If the city is unique, then add it to a our cities list\n",
    "    if city not in cities:\n",
    "        cities.append(city)\n",
    "\n",
    "# Print the city count to confirm sufficient count\n",
    "len(cities)"
   ]
  },
  {
   "cell_type": "markdown",
   "metadata": {},
   "source": [
    "### Perform API Calls\n",
    "* Perform a weather check on each city using a series of successive API calls.\n",
    "* Include a print log of each city as it'sbeing processed (with the city number and city name).\n"
   ]
  },
  {
   "cell_type": "code",
   "execution_count": 3,
   "metadata": {},
   "outputs": [],
   "source": [
    "\n",
    "# OpenWeatherMap API Key\n",
    "api_key = api_keys.weather_api_key\n",
    "\n",
    "# Starting URL for Weather Map API Call\n",
    "url = \"http://api.openweathermap.org/data/2.5/weather?units=Imperial&APPID=\" + api_key"
   ]
  },
  {
   "cell_type": "code",
   "execution_count": 4,
   "metadata": {
    "scrolled": true
   },
   "outputs": [
    {
     "name": "stdout",
     "output_type": "stream",
     "text": [
      "Beginning Data Retrieval\n",
      "--------------------------------------------------------------\n",
      "Processing Record 1 | Norman Wells\n",
      "http://api.openweathermap.org/data/2.5/weather?units=Imperial&APPID=c61eddd25a92d387eb5ce5ac585e82fb&q=norman wells\n",
      "Processing Record 2 | Najrān\n",
      "http://api.openweathermap.org/data/2.5/weather?units=Imperial&APPID=c61eddd25a92d387eb5ce5ac585e82fb&q=najran\n",
      "Processing Record 3 | Diu\n",
      "http://api.openweathermap.org/data/2.5/weather?units=Imperial&APPID=c61eddd25a92d387eb5ce5ac585e82fb&q=diu\n",
      "Processing Record 4 | Qaanaaq\n",
      "http://api.openweathermap.org/data/2.5/weather?units=Imperial&APPID=c61eddd25a92d387eb5ce5ac585e82fb&q=qaanaaq\n",
      "Processing Record 5 | Talnakh\n",
      "http://api.openweathermap.org/data/2.5/weather?units=Imperial&APPID=c61eddd25a92d387eb5ce5ac585e82fb&q=talnakh\n",
      "Processing Record 6 | Lagoa\n",
      "http://api.openweathermap.org/data/2.5/weather?units=Imperial&APPID=c61eddd25a92d387eb5ce5ac585e82fb&q=lagoa\n",
      "Processing Record 7 | Jamestown\n",
      "http://api.openweathermap.org/data/2.5/weather?units=Imperial&APPID=c61eddd25a92d387eb5ce5ac585e82fb&q=jamestown\n",
      "Processing Record 8 | Rikitea\n",
      "http://api.openweathermap.org/data/2.5/weather?units=Imperial&APPID=c61eddd25a92d387eb5ce5ac585e82fb&q=rikitea\n",
      "Processing Record 9 | Puerto Ayora\n",
      "http://api.openweathermap.org/data/2.5/weather?units=Imperial&APPID=c61eddd25a92d387eb5ce5ac585e82fb&q=puerto ayora\n",
      "Processing Record 10 | George Town\n",
      "http://api.openweathermap.org/data/2.5/weather?units=Imperial&APPID=c61eddd25a92d387eb5ce5ac585e82fb&q=georgetown\n",
      "Processing Record 11 | Hayden\n",
      "http://api.openweathermap.org/data/2.5/weather?units=Imperial&APPID=c61eddd25a92d387eb5ce5ac585e82fb&q=hayden\n",
      "City not found. Skipping...\n",
      "Processing Record 12 | Chokurdakh\n",
      "http://api.openweathermap.org/data/2.5/weather?units=Imperial&APPID=c61eddd25a92d387eb5ce5ac585e82fb&q=chokurdakh\n",
      "Processing Record 13 | Bathsheba\n",
      "http://api.openweathermap.org/data/2.5/weather?units=Imperial&APPID=c61eddd25a92d387eb5ce5ac585e82fb&q=bathsheba\n",
      "City not found. Skipping...\n",
      "Processing Record 14 | Aklavik\n",
      "http://api.openweathermap.org/data/2.5/weather?units=Imperial&APPID=c61eddd25a92d387eb5ce5ac585e82fb&q=aklavik\n",
      "Processing Record 15 | Avarua\n",
      "http://api.openweathermap.org/data/2.5/weather?units=Imperial&APPID=c61eddd25a92d387eb5ce5ac585e82fb&q=avarua\n",
      "Processing Record 16 | Basoko\n",
      "http://api.openweathermap.org/data/2.5/weather?units=Imperial&APPID=c61eddd25a92d387eb5ce5ac585e82fb&q=basoko\n",
      "Processing Record 17 | Lebu\n",
      "http://api.openweathermap.org/data/2.5/weather?units=Imperial&APPID=c61eddd25a92d387eb5ce5ac585e82fb&q=lebu\n",
      "Processing Record 18 | Butaritari\n",
      "http://api.openweathermap.org/data/2.5/weather?units=Imperial&APPID=c61eddd25a92d387eb5ce5ac585e82fb&q=butaritari\n",
      "Processing Record 19 | Longyearbyen\n",
      "http://api.openweathermap.org/data/2.5/weather?units=Imperial&APPID=c61eddd25a92d387eb5ce5ac585e82fb&q=longyearbyen\n",
      "Processing Record 20 | Punta Arenas\n",
      "http://api.openweathermap.org/data/2.5/weather?units=Imperial&APPID=c61eddd25a92d387eb5ce5ac585e82fb&q=punta arenas\n",
      "Processing Record 21 | Cidreira\n",
      "http://api.openweathermap.org/data/2.5/weather?units=Imperial&APPID=c61eddd25a92d387eb5ce5ac585e82fb&q=cidreira\n",
      "Processing Record 22 | Vardø\n",
      "http://api.openweathermap.org/data/2.5/weather?units=Imperial&APPID=c61eddd25a92d387eb5ce5ac585e82fb&q=vardo\n",
      "Processing Record 23 | Ushuaia\n",
      "http://api.openweathermap.org/data/2.5/weather?units=Imperial&APPID=c61eddd25a92d387eb5ce5ac585e82fb&q=ushuaia\n",
      "Processing Record 24 | Busselton\n",
      "http://api.openweathermap.org/data/2.5/weather?units=Imperial&APPID=c61eddd25a92d387eb5ce5ac585e82fb&q=busselton\n",
      "Processing Record 25 | Mukhen\n",
      "http://api.openweathermap.org/data/2.5/weather?units=Imperial&APPID=c61eddd25a92d387eb5ce5ac585e82fb&q=mukhen\n",
      "Processing Record 26 | Hithadhoo\n",
      "http://api.openweathermap.org/data/2.5/weather?units=Imperial&APPID=c61eddd25a92d387eb5ce5ac585e82fb&q=hithadhoo\n",
      "Processing Record 27 | Aykhal\n",
      "http://api.openweathermap.org/data/2.5/weather?units=Imperial&APPID=c61eddd25a92d387eb5ce5ac585e82fb&q=aykhal\n",
      "City not found. Skipping...\n",
      "Processing Record 28 | Tuktoyaktuk\n",
      "http://api.openweathermap.org/data/2.5/weather?units=Imperial&APPID=c61eddd25a92d387eb5ce5ac585e82fb&q=tuktoyaktuk\n",
      "Processing Record 29 | Kruisfontein\n",
      "http://api.openweathermap.org/data/2.5/weather?units=Imperial&APPID=c61eddd25a92d387eb5ce5ac585e82fb&q=kruisfontein\n",
      "Processing Record 30 | Yellowknife\n",
      "http://api.openweathermap.org/data/2.5/weather?units=Imperial&APPID=c61eddd25a92d387eb5ce5ac585e82fb&q=yellowknife\n",
      "Processing Record 31 | Rzhishchëv\n",
      "http://api.openweathermap.org/data/2.5/weather?units=Imperial&APPID=c61eddd25a92d387eb5ce5ac585e82fb&q=rzhyshchiv\n",
      "Processing Record 32 | Dikson\n",
      "http://api.openweathermap.org/data/2.5/weather?units=Imperial&APPID=c61eddd25a92d387eb5ce5ac585e82fb&q=dikson\n",
      "Processing Record 33 | Kiryat Gat\n",
      "http://api.openweathermap.org/data/2.5/weather?units=Imperial&APPID=c61eddd25a92d387eb5ce5ac585e82fb&q=gat\n",
      "Processing Record 34 | Xucheng\n",
      "http://api.openweathermap.org/data/2.5/weather?units=Imperial&APPID=c61eddd25a92d387eb5ce5ac585e82fb&q=xucheng\n",
      "Processing Record 35 | Asău\n",
      "http://api.openweathermap.org/data/2.5/weather?units=Imperial&APPID=c61eddd25a92d387eb5ce5ac585e82fb&q=asau\n",
      "Processing Record 36 | Isiro\n",
      "http://api.openweathermap.org/data/2.5/weather?units=Imperial&APPID=c61eddd25a92d387eb5ce5ac585e82fb&q=isiro\n",
      "Processing Record 37 | Atar\n",
      "http://api.openweathermap.org/data/2.5/weather?units=Imperial&APPID=c61eddd25a92d387eb5ce5ac585e82fb&q=atar\n",
      "Processing Record 38 | Balabac\n",
      "http://api.openweathermap.org/data/2.5/weather?units=Imperial&APPID=c61eddd25a92d387eb5ce5ac585e82fb&q=balabac\n",
      "Processing Record 39 | Santiago de Cao\n",
      "http://api.openweathermap.org/data/2.5/weather?units=Imperial&APPID=c61eddd25a92d387eb5ce5ac585e82fb&q=santiago de cao\n",
      "Processing Record 40 | Albany\n",
      "http://api.openweathermap.org/data/2.5/weather?units=Imperial&APPID=c61eddd25a92d387eb5ce5ac585e82fb&q=albany\n",
      "Processing Record 41 | Nikolskoye\n",
      "http://api.openweathermap.org/data/2.5/weather?units=Imperial&APPID=c61eddd25a92d387eb5ce5ac585e82fb&q=nikolskoye\n",
      "Processing Record 42 | San Patricio\n",
      "http://api.openweathermap.org/data/2.5/weather?units=Imperial&APPID=c61eddd25a92d387eb5ce5ac585e82fb&q=san patricio\n",
      "Processing Record 43 | Hofn\n",
      "http://api.openweathermap.org/data/2.5/weather?units=Imperial&APPID=c61eddd25a92d387eb5ce5ac585e82fb&q=hofn\n",
      "Processing Record 44 | Marzuq\n",
      "http://api.openweathermap.org/data/2.5/weather?units=Imperial&APPID=c61eddd25a92d387eb5ce5ac585e82fb&q=marzuq\n",
      "Processing Record 45 | Port Hawkesbury\n",
      "http://api.openweathermap.org/data/2.5/weather?units=Imperial&APPID=c61eddd25a92d387eb5ce5ac585e82fb&q=port hawkesbury\n",
      "Processing Record 46 | Dehlorān\n",
      "http://api.openweathermap.org/data/2.5/weather?units=Imperial&APPID=c61eddd25a92d387eb5ce5ac585e82fb&q=dehloran\n",
      "Processing Record 47 | Nurlat\n",
      "http://api.openweathermap.org/data/2.5/weather?units=Imperial&APPID=c61eddd25a92d387eb5ce5ac585e82fb&q=nurlat\n",
      "Processing Record 48 | Lata\n",
      "http://api.openweathermap.org/data/2.5/weather?units=Imperial&APPID=c61eddd25a92d387eb5ce5ac585e82fb&q=lata\n",
      "Processing Record 49 | Hermanus\n",
      "http://api.openweathermap.org/data/2.5/weather?units=Imperial&APPID=c61eddd25a92d387eb5ce5ac585e82fb&q=hermanus\n",
      "Processing Record 50 | Viedma\n",
      "http://api.openweathermap.org/data/2.5/weather?units=Imperial&APPID=c61eddd25a92d387eb5ce5ac585e82fb&q=viedma\n",
      "Processing Record 51 | Acapulco de Juárez\n",
      "http://api.openweathermap.org/data/2.5/weather?units=Imperial&APPID=c61eddd25a92d387eb5ce5ac585e82fb&q=acapulco\n",
      "Processing Record 52 | Senanga\n",
      "http://api.openweathermap.org/data/2.5/weather?units=Imperial&APPID=c61eddd25a92d387eb5ce5ac585e82fb&q=senanga\n",
      "Processing Record 53 | Bairiki Village\n",
      "http://api.openweathermap.org/data/2.5/weather?units=Imperial&APPID=c61eddd25a92d387eb5ce5ac585e82fb&q=bairiki\n",
      "Processing Record 54 | Norrköping\n",
      "http://api.openweathermap.org/data/2.5/weather?units=Imperial&APPID=c61eddd25a92d387eb5ce5ac585e82fb&q=norrkoping\n",
      "Processing Record 55 | Atuona\n",
      "http://api.openweathermap.org/data/2.5/weather?units=Imperial&APPID=c61eddd25a92d387eb5ce5ac585e82fb&q=atuona\n",
      "Processing Record 56 | High Rock\n",
      "http://api.openweathermap.org/data/2.5/weather?units=Imperial&APPID=c61eddd25a92d387eb5ce5ac585e82fb&q=high rock\n",
      "Processing Record 57 | Soyo\n",
      "http://api.openweathermap.org/data/2.5/weather?units=Imperial&APPID=c61eddd25a92d387eb5ce5ac585e82fb&q=soyo\n",
      "Processing Record 58 | Airai\n",
      "http://api.openweathermap.org/data/2.5/weather?units=Imperial&APPID=c61eddd25a92d387eb5ce5ac585e82fb&q=airai\n",
      "Processing Record 59 | Ilulissat\n",
      "http://api.openweathermap.org/data/2.5/weather?units=Imperial&APPID=c61eddd25a92d387eb5ce5ac585e82fb&q=ilulissat\n",
      "City not found. Skipping...\n",
      "Processing Record 60 | Vila Nova de Milfontes\n",
      "http://api.openweathermap.org/data/2.5/weather?units=Imperial&APPID=c61eddd25a92d387eb5ce5ac585e82fb&q=vila nova de milfontes\n",
      "Processing Record 61 | Souillac\n",
      "http://api.openweathermap.org/data/2.5/weather?units=Imperial&APPID=c61eddd25a92d387eb5ce5ac585e82fb&q=souillac\n",
      "Processing Record 62 | Khatanga\n",
      "http://api.openweathermap.org/data/2.5/weather?units=Imperial&APPID=c61eddd25a92d387eb5ce5ac585e82fb&q=khatanga\n",
      "Processing Record 63 | São Filipe\n",
      "http://api.openweathermap.org/data/2.5/weather?units=Imperial&APPID=c61eddd25a92d387eb5ce5ac585e82fb&q=sao filipe\n",
      "Processing Record 64 | Santa Isabel Rio Negro\n",
      "http://api.openweathermap.org/data/2.5/weather?units=Imperial&APPID=c61eddd25a92d387eb5ce5ac585e82fb&q=santa isabel do rio negro\n",
      "Processing Record 65 | Carnarvon\n",
      "http://api.openweathermap.org/data/2.5/weather?units=Imperial&APPID=c61eddd25a92d387eb5ce5ac585e82fb&q=carnarvon\n",
      "Processing Record 66 | Cape Town\n",
      "http://api.openweathermap.org/data/2.5/weather?units=Imperial&APPID=c61eddd25a92d387eb5ce5ac585e82fb&q=cape town\n",
      "Processing Record 67 | Port Hedland\n",
      "http://api.openweathermap.org/data/2.5/weather?units=Imperial&APPID=c61eddd25a92d387eb5ce5ac585e82fb&q=port hedland\n",
      "Processing Record 68 | Manggar\n",
      "http://api.openweathermap.org/data/2.5/weather?units=Imperial&APPID=c61eddd25a92d387eb5ce5ac585e82fb&q=manggar\n",
      "Processing Record 69 | Tiksi\n",
      "http://api.openweathermap.org/data/2.5/weather?units=Imperial&APPID=c61eddd25a92d387eb5ce5ac585e82fb&q=tiksi\n",
      "Processing Record 70 | Labuhan\n",
      "http://api.openweathermap.org/data/2.5/weather?units=Imperial&APPID=c61eddd25a92d387eb5ce5ac585e82fb&q=labuhan\n",
      "Processing Record 71 | Port Alfred\n",
      "http://api.openweathermap.org/data/2.5/weather?units=Imperial&APPID=c61eddd25a92d387eb5ce5ac585e82fb&q=port alfred\n",
      "Processing Record 72 | Zhigansk\n",
      "http://api.openweathermap.org/data/2.5/weather?units=Imperial&APPID=c61eddd25a92d387eb5ce5ac585e82fb&q=zhigansk\n",
      "Processing Record 73 | Clyde River\n",
      "http://api.openweathermap.org/data/2.5/weather?units=Imperial&APPID=c61eddd25a92d387eb5ce5ac585e82fb&q=clyde river\n",
      "Processing Record 74 | Bredasdorp\n",
      "http://api.openweathermap.org/data/2.5/weather?units=Imperial&APPID=c61eddd25a92d387eb5ce5ac585e82fb&q=bredasdorp\n",
      "Processing Record 75 | Mayumba\n",
      "http://api.openweathermap.org/data/2.5/weather?units=Imperial&APPID=c61eddd25a92d387eb5ce5ac585e82fb&q=mayumba\n",
      "Processing Record 76 | Mar del Plata\n",
      "http://api.openweathermap.org/data/2.5/weather?units=Imperial&APPID=c61eddd25a92d387eb5ce5ac585e82fb&q=mar del plata\n",
      "Processing Record 77 | New Norfolk\n",
      "http://api.openweathermap.org/data/2.5/weather?units=Imperial&APPID=c61eddd25a92d387eb5ce5ac585e82fb&q=new norfolk\n",
      "Processing Record 78 | Pānsemāl\n",
      "http://api.openweathermap.org/data/2.5/weather?units=Imperial&APPID=c61eddd25a92d387eb5ce5ac585e82fb&q=pansemal\n",
      "Processing Record 79 | Keti Bandar\n",
      "http://api.openweathermap.org/data/2.5/weather?units=Imperial&APPID=c61eddd25a92d387eb5ce5ac585e82fb&q=keti bandar\n",
      "Processing Record 80 | Arman'\n",
      "http://api.openweathermap.org/data/2.5/weather?units=Imperial&APPID=c61eddd25a92d387eb5ce5ac585e82fb&q=arman\n",
      "Processing Record 81 | Ossora\n",
      "http://api.openweathermap.org/data/2.5/weather?units=Imperial&APPID=c61eddd25a92d387eb5ce5ac585e82fb&q=ossora\n",
      "Processing Record 82 | Vaini\n",
      "http://api.openweathermap.org/data/2.5/weather?units=Imperial&APPID=c61eddd25a92d387eb5ce5ac585e82fb&q=vaini\n",
      "Processing Record 83 | Varberg\n",
      "http://api.openweathermap.org/data/2.5/weather?units=Imperial&APPID=c61eddd25a92d387eb5ce5ac585e82fb&q=varberg\n",
      "Processing Record 84 | Bengkulu\n",
      "http://api.openweathermap.org/data/2.5/weather?units=Imperial&APPID=c61eddd25a92d387eb5ce5ac585e82fb&q=bengkulu\n",
      "City not found. Skipping...\n",
      "Processing Record 85 | San Jose\n",
      "http://api.openweathermap.org/data/2.5/weather?units=Imperial&APPID=c61eddd25a92d387eb5ce5ac585e82fb&q=san jose\n",
      "Processing Record 86 | Celestún\n",
      "http://api.openweathermap.org/data/2.5/weather?units=Imperial&APPID=c61eddd25a92d387eb5ce5ac585e82fb&q=celestun\n",
      "Processing Record 87 | Chui\n",
      "http://api.openweathermap.org/data/2.5/weather?units=Imperial&APPID=c61eddd25a92d387eb5ce5ac585e82fb&q=chuy\n",
      "Processing Record 88 | Lamar\n",
      "http://api.openweathermap.org/data/2.5/weather?units=Imperial&APPID=c61eddd25a92d387eb5ce5ac585e82fb&q=lamar\n",
      "Processing Record 89 | Nishihara\n",
      "http://api.openweathermap.org/data/2.5/weather?units=Imperial&APPID=c61eddd25a92d387eb5ce5ac585e82fb&q=nishihara\n",
      "Processing Record 90 | Arraial do Cabo\n",
      "http://api.openweathermap.org/data/2.5/weather?units=Imperial&APPID=c61eddd25a92d387eb5ce5ac585e82fb&q=arraial do cabo\n",
      "Processing Record 91 | Barrow\n",
      "http://api.openweathermap.org/data/2.5/weather?units=Imperial&APPID=c61eddd25a92d387eb5ce5ac585e82fb&q=barrow\n",
      "Processing Record 92 | Saint-Philippe\n",
      "http://api.openweathermap.org/data/2.5/weather?units=Imperial&APPID=c61eddd25a92d387eb5ce5ac585e82fb&q=saint-philippe\n",
      "Processing Record 93 | Mabaruma\n",
      "http://api.openweathermap.org/data/2.5/weather?units=Imperial&APPID=c61eddd25a92d387eb5ce5ac585e82fb&q=mabaruma\n",
      "Processing Record 94 | Marsabit\n",
      "http://api.openweathermap.org/data/2.5/weather?units=Imperial&APPID=c61eddd25a92d387eb5ce5ac585e82fb&q=marsabit\n",
      "Processing Record 95 | Del Rio\n",
      "http://api.openweathermap.org/data/2.5/weather?units=Imperial&APPID=c61eddd25a92d387eb5ce5ac585e82fb&q=del rio\n",
      "City not found. Skipping...\n",
      "Processing Record 96 | Palmer\n",
      "http://api.openweathermap.org/data/2.5/weather?units=Imperial&APPID=c61eddd25a92d387eb5ce5ac585e82fb&q=palmer\n",
      "Processing Record 97 | Pisco\n",
      "http://api.openweathermap.org/data/2.5/weather?units=Imperial&APPID=c61eddd25a92d387eb5ce5ac585e82fb&q=pisco\n",
      "Processing Record 98 | Ponta do Sol\n",
      "http://api.openweathermap.org/data/2.5/weather?units=Imperial&APPID=c61eddd25a92d387eb5ce5ac585e82fb&q=ponta do sol\n",
      "Processing Record 99 | Saskylakh\n",
      "http://api.openweathermap.org/data/2.5/weather?units=Imperial&APPID=c61eddd25a92d387eb5ce5ac585e82fb&q=saskylakh\n",
      "Processing Record 100 | Bluff\n",
      "http://api.openweathermap.org/data/2.5/weather?units=Imperial&APPID=c61eddd25a92d387eb5ce5ac585e82fb&q=bluff\n",
      "Processing Record 101 | Provideniya\n",
      "http://api.openweathermap.org/data/2.5/weather?units=Imperial&APPID=c61eddd25a92d387eb5ce5ac585e82fb&q=provideniya\n",
      "Processing Record 102 | Fuzhou\n",
      "http://api.openweathermap.org/data/2.5/weather?units=Imperial&APPID=c61eddd25a92d387eb5ce5ac585e82fb&q=fuzhou\n",
      "Processing Record 103 | Nome\n",
      "http://api.openweathermap.org/data/2.5/weather?units=Imperial&APPID=c61eddd25a92d387eb5ce5ac585e82fb&q=nome\n",
      "Processing Record 104 | Meulaboh\n",
      "http://api.openweathermap.org/data/2.5/weather?units=Imperial&APPID=c61eddd25a92d387eb5ce5ac585e82fb&q=meulaboh\n",
      "Processing Record 105 | Portland\n",
      "http://api.openweathermap.org/data/2.5/weather?units=Imperial&APPID=c61eddd25a92d387eb5ce5ac585e82fb&q=portland\n",
      "Processing Record 106 | Lincoln\n",
      "http://api.openweathermap.org/data/2.5/weather?units=Imperial&APPID=c61eddd25a92d387eb5ce5ac585e82fb&q=lincoln\n",
      "City not found. Skipping...\n",
      "Processing Record 107 | Puerto Baquerizo Moreno\n",
      "http://api.openweathermap.org/data/2.5/weather?units=Imperial&APPID=c61eddd25a92d387eb5ce5ac585e82fb&q=puerto baquerizo moreno\n",
      "Processing Record 108 | Cayenne\n",
      "http://api.openweathermap.org/data/2.5/weather?units=Imperial&APPID=c61eddd25a92d387eb5ce5ac585e82fb&q=cayenne\n",
      "Processing Record 109 | Mataura\n",
      "http://api.openweathermap.org/data/2.5/weather?units=Imperial&APPID=c61eddd25a92d387eb5ce5ac585e82fb&q=mataura\n",
      "Processing Record 110 | Elesbão Veloso\n",
      "http://api.openweathermap.org/data/2.5/weather?units=Imperial&APPID=c61eddd25a92d387eb5ce5ac585e82fb&q=elesbao veloso\n",
      "Processing Record 111 | São Gotardo\n",
      "http://api.openweathermap.org/data/2.5/weather?units=Imperial&APPID=c61eddd25a92d387eb5ce5ac585e82fb&q=sao gotardo\n",
      "Processing Record 112 | Castro\n",
      "http://api.openweathermap.org/data/2.5/weather?units=Imperial&APPID=c61eddd25a92d387eb5ce5ac585e82fb&q=castro\n",
      "Processing Record 113 | Kavieng\n",
      "http://api.openweathermap.org/data/2.5/weather?units=Imperial&APPID=c61eddd25a92d387eb5ce5ac585e82fb&q=kavieng\n",
      "Processing Record 114 | Siparia\n",
      "http://api.openweathermap.org/data/2.5/weather?units=Imperial&APPID=c61eddd25a92d387eb5ce5ac585e82fb&q=siparia\n",
      "Processing Record 115 | Vanderhoof\n",
      "http://api.openweathermap.org/data/2.5/weather?units=Imperial&APPID=c61eddd25a92d387eb5ce5ac585e82fb&q=vanderhoof\n",
      "Processing Record 116 | Hobart\n",
      "http://api.openweathermap.org/data/2.5/weather?units=Imperial&APPID=c61eddd25a92d387eb5ce5ac585e82fb&q=hobart\n",
      "Processing Record 117 | San Cristobal\n",
      "http://api.openweathermap.org/data/2.5/weather?units=Imperial&APPID=c61eddd25a92d387eb5ce5ac585e82fb&q=san cristobal\n",
      "Processing Record 118 | Hoopstad\n",
      "http://api.openweathermap.org/data/2.5/weather?units=Imperial&APPID=c61eddd25a92d387eb5ce5ac585e82fb&q=hoopstad\n",
      "Processing Record 119 | Lengshuitan\n",
      "http://api.openweathermap.org/data/2.5/weather?units=Imperial&APPID=c61eddd25a92d387eb5ce5ac585e82fb&q=lengshuitan\n",
      "Processing Record 120 | Saint-Augustin\n",
      "http://api.openweathermap.org/data/2.5/weather?units=Imperial&APPID=c61eddd25a92d387eb5ce5ac585e82fb&q=saint-augustin\n",
      "Processing Record 121 | Kapaa\n",
      "http://api.openweathermap.org/data/2.5/weather?units=Imperial&APPID=c61eddd25a92d387eb5ce5ac585e82fb&q=kapaa\n",
      "Processing Record 122 | Mogadishu\n",
      "http://api.openweathermap.org/data/2.5/weather?units=Imperial&APPID=c61eddd25a92d387eb5ce5ac585e82fb&q=mogadishu\n",
      "Processing Record 123 | Ribeira Grande\n",
      "http://api.openweathermap.org/data/2.5/weather?units=Imperial&APPID=c61eddd25a92d387eb5ce5ac585e82fb&q=ribeira grande\n",
      "Processing Record 124 | Severo-Kuril'sk\n",
      "http://api.openweathermap.org/data/2.5/weather?units=Imperial&APPID=c61eddd25a92d387eb5ce5ac585e82fb&q=severo-kurilsk\n",
      "Processing Record 125 | Lompoc\n",
      "http://api.openweathermap.org/data/2.5/weather?units=Imperial&APPID=c61eddd25a92d387eb5ce5ac585e82fb&q=lompoc\n",
      "Processing Record 126 | Klaksvík\n",
      "http://api.openweathermap.org/data/2.5/weather?units=Imperial&APPID=c61eddd25a92d387eb5ce5ac585e82fb&q=klaksvik\n",
      "Processing Record 127 | Saint Paul Harbor\n",
      "http://api.openweathermap.org/data/2.5/weather?units=Imperial&APPID=c61eddd25a92d387eb5ce5ac585e82fb&q=kodiak\n",
      "Processing Record 128 | Jiazi\n",
      "http://api.openweathermap.org/data/2.5/weather?units=Imperial&APPID=c61eddd25a92d387eb5ce5ac585e82fb&q=jiazi\n",
      "City not found. Skipping...\n",
      "City not found. Skipping...\n",
      "Processing Record 129 | Naze\n",
      "http://api.openweathermap.org/data/2.5/weather?units=Imperial&APPID=c61eddd25a92d387eb5ce5ac585e82fb&q=naze\n",
      "Processing Record 130 | Kailua\n",
      "http://api.openweathermap.org/data/2.5/weather?units=Imperial&APPID=c61eddd25a92d387eb5ce5ac585e82fb&q=kailua\n",
      "Processing Record 131 | Wanning\n",
      "http://api.openweathermap.org/data/2.5/weather?units=Imperial&APPID=c61eddd25a92d387eb5ce5ac585e82fb&q=wanning\n",
      "Processing Record 132 | Esperance\n",
      "http://api.openweathermap.org/data/2.5/weather?units=Imperial&APPID=c61eddd25a92d387eb5ce5ac585e82fb&q=esperance\n",
      "Processing Record 133 | Dongying\n",
      "http://api.openweathermap.org/data/2.5/weather?units=Imperial&APPID=c61eddd25a92d387eb5ce5ac585e82fb&q=dongying\n",
      "Processing Record 134 | Umred\n",
      "http://api.openweathermap.org/data/2.5/weather?units=Imperial&APPID=c61eddd25a92d387eb5ce5ac585e82fb&q=umred\n",
      "Processing Record 135 | Belle Glade\n",
      "http://api.openweathermap.org/data/2.5/weather?units=Imperial&APPID=c61eddd25a92d387eb5ce5ac585e82fb&q=belle glade\n",
      "Processing Record 136 | Bilibino\n",
      "http://api.openweathermap.org/data/2.5/weather?units=Imperial&APPID=c61eddd25a92d387eb5ce5ac585e82fb&q=bilibino\n",
      "Processing Record 137 | Omboué\n",
      "http://api.openweathermap.org/data/2.5/weather?units=Imperial&APPID=c61eddd25a92d387eb5ce5ac585e82fb&q=omboue\n",
      "Processing Record 138 | Ahipara\n",
      "http://api.openweathermap.org/data/2.5/weather?units=Imperial&APPID=c61eddd25a92d387eb5ce5ac585e82fb&q=ahipara\n",
      "Processing Record 139 | Kungurtug\n",
      "http://api.openweathermap.org/data/2.5/weather?units=Imperial&APPID=c61eddd25a92d387eb5ce5ac585e82fb&q=kungurtug\n",
      "Processing Record 140 | Urusha\n",
      "http://api.openweathermap.org/data/2.5/weather?units=Imperial&APPID=c61eddd25a92d387eb5ce5ac585e82fb&q=urusha\n",
      "City not found. Skipping...\n",
      "Processing Record 141 | Praia da Vitória\n",
      "http://api.openweathermap.org/data/2.5/weather?units=Imperial&APPID=c61eddd25a92d387eb5ce5ac585e82fb&q=praia da vitoria\n",
      "Processing Record 142 | Codrington\n",
      "http://api.openweathermap.org/data/2.5/weather?units=Imperial&APPID=c61eddd25a92d387eb5ce5ac585e82fb&q=codrington\n",
      "Processing Record 143 | Tautira\n",
      "http://api.openweathermap.org/data/2.5/weather?units=Imperial&APPID=c61eddd25a92d387eb5ce5ac585e82fb&q=tautira\n",
      "Processing Record 144 | Kirakira\n",
      "http://api.openweathermap.org/data/2.5/weather?units=Imperial&APPID=c61eddd25a92d387eb5ce5ac585e82fb&q=kirakira\n",
      "Processing Record 145 | Mossamedes\n",
      "http://api.openweathermap.org/data/2.5/weather?units=Imperial&APPID=c61eddd25a92d387eb5ce5ac585e82fb&q=namibe\n",
      "Processing Record 146 | Tasiilaq\n",
      "http://api.openweathermap.org/data/2.5/weather?units=Imperial&APPID=c61eddd25a92d387eb5ce5ac585e82fb&q=tasiilaq\n",
      "Processing Record 147 | Nanortalik\n",
      "http://api.openweathermap.org/data/2.5/weather?units=Imperial&APPID=c61eddd25a92d387eb5ce5ac585e82fb&q=nanortalik\n",
      "Processing Record 148 | Dothan\n",
      "http://api.openweathermap.org/data/2.5/weather?units=Imperial&APPID=c61eddd25a92d387eb5ce5ac585e82fb&q=dothan\n",
      "Processing Record 149 | Killarney\n",
      "http://api.openweathermap.org/data/2.5/weather?units=Imperial&APPID=c61eddd25a92d387eb5ce5ac585e82fb&q=killarney\n",
      "Processing Record 150 | Lethem\n",
      "http://api.openweathermap.org/data/2.5/weather?units=Imperial&APPID=c61eddd25a92d387eb5ce5ac585e82fb&q=lethem\n",
      "Processing Record 151 | Hilo\n",
      "http://api.openweathermap.org/data/2.5/weather?units=Imperial&APPID=c61eddd25a92d387eb5ce5ac585e82fb&q=hilo\n",
      "Processing Record 152 | Shelabolikha\n",
      "http://api.openweathermap.org/data/2.5/weather?units=Imperial&APPID=c61eddd25a92d387eb5ce5ac585e82fb&q=shelabolikha\n",
      "Processing Record 153 | Padang\n",
      "http://api.openweathermap.org/data/2.5/weather?units=Imperial&APPID=c61eddd25a92d387eb5ce5ac585e82fb&q=padang\n",
      "Processing Record 154 | Kitimat\n",
      "http://api.openweathermap.org/data/2.5/weather?units=Imperial&APPID=c61eddd25a92d387eb5ce5ac585e82fb&q=kitimat\n",
      "Processing Record 155 | Mocuba\n",
      "http://api.openweathermap.org/data/2.5/weather?units=Imperial&APPID=c61eddd25a92d387eb5ce5ac585e82fb&q=mocuba\n",
      "Processing Record 156 | Ottumwa\n",
      "http://api.openweathermap.org/data/2.5/weather?units=Imperial&APPID=c61eddd25a92d387eb5ce5ac585e82fb&q=ottumwa\n",
      "Processing Record 157 | Berlevåg\n",
      "http://api.openweathermap.org/data/2.5/weather?units=Imperial&APPID=c61eddd25a92d387eb5ce5ac585e82fb&q=berlevag\n",
      "Processing Record 158 | East London\n",
      "http://api.openweathermap.org/data/2.5/weather?units=Imperial&APPID=c61eddd25a92d387eb5ce5ac585e82fb&q=east london\n",
      "Processing Record 159 | Postoloprty\n",
      "http://api.openweathermap.org/data/2.5/weather?units=Imperial&APPID=c61eddd25a92d387eb5ce5ac585e82fb&q=postoloprty\n",
      "Processing Record 160 | Northam\n",
      "http://api.openweathermap.org/data/2.5/weather?units=Imperial&APPID=c61eddd25a92d387eb5ce5ac585e82fb&q=northam\n",
      "Processing Record 161 | Saint-Paul-lès-Dax\n",
      "http://api.openweathermap.org/data/2.5/weather?units=Imperial&APPID=c61eddd25a92d387eb5ce5ac585e82fb&q=saint-paul-les-dax\n",
      "Processing Record 162 | Isangel\n",
      "http://api.openweathermap.org/data/2.5/weather?units=Imperial&APPID=c61eddd25a92d387eb5ce5ac585e82fb&q=isangel\n",
      "Processing Record 163 | Canela\n",
      "http://api.openweathermap.org/data/2.5/weather?units=Imperial&APPID=c61eddd25a92d387eb5ce5ac585e82fb&q=canela\n",
      "Processing Record 164 | Maragogi\n",
      "http://api.openweathermap.org/data/2.5/weather?units=Imperial&APPID=c61eddd25a92d387eb5ce5ac585e82fb&q=maragogi\n",
      "Processing Record 165 | Vuktyl\n",
      "http://api.openweathermap.org/data/2.5/weather?units=Imperial&APPID=c61eddd25a92d387eb5ce5ac585e82fb&q=vuktyl\n",
      "City not found. Skipping...\n",
      "Processing Record 166 | Ngunguru\n",
      "http://api.openweathermap.org/data/2.5/weather?units=Imperial&APPID=c61eddd25a92d387eb5ce5ac585e82fb&q=ngunguru\n",
      "Processing Record 167 | Half Moon Bay\n",
      "http://api.openweathermap.org/data/2.5/weather?units=Imperial&APPID=c61eddd25a92d387eb5ce5ac585e82fb&q=half moon bay\n",
      "Processing Record 168 | Leningradskiy\n",
      "http://api.openweathermap.org/data/2.5/weather?units=Imperial&APPID=c61eddd25a92d387eb5ce5ac585e82fb&q=leningradskiy\n",
      "Processing Record 169 | Henties Bay\n",
      "http://api.openweathermap.org/data/2.5/weather?units=Imperial&APPID=c61eddd25a92d387eb5ce5ac585e82fb&q=henties bay\n",
      "Processing Record 170 | San Jerónimo\n",
      "http://api.openweathermap.org/data/2.5/weather?units=Imperial&APPID=c61eddd25a92d387eb5ce5ac585e82fb&q=san jeronimo\n",
      "Processing Record 171 | Torbay\n",
      "http://api.openweathermap.org/data/2.5/weather?units=Imperial&APPID=c61eddd25a92d387eb5ce5ac585e82fb&q=torbay\n",
      "Processing Record 172 | Hay River\n",
      "http://api.openweathermap.org/data/2.5/weather?units=Imperial&APPID=c61eddd25a92d387eb5ce5ac585e82fb&q=hay river\n",
      "Processing Record 173 | Neuquén\n",
      "http://api.openweathermap.org/data/2.5/weather?units=Imperial&APPID=c61eddd25a92d387eb5ce5ac585e82fb&q=neuquen\n",
      "Processing Record 174 | Salinópolis\n",
      "http://api.openweathermap.org/data/2.5/weather?units=Imperial&APPID=c61eddd25a92d387eb5ce5ac585e82fb&q=salinopolis\n",
      "City not found. Skipping...\n",
      "Processing Record 175 | Limeira\n",
      "http://api.openweathermap.org/data/2.5/weather?units=Imperial&APPID=c61eddd25a92d387eb5ce5ac585e82fb&q=limeira\n",
      "City not found. Skipping...\n",
      "City not found. Skipping...\n",
      "Processing Record 176 | Phang Nga\n",
      "http://api.openweathermap.org/data/2.5/weather?units=Imperial&APPID=c61eddd25a92d387eb5ce5ac585e82fb&q=phangnga\n",
      "Processing Record 177 | Westlock\n",
      "http://api.openweathermap.org/data/2.5/weather?units=Imperial&APPID=c61eddd25a92d387eb5ce5ac585e82fb&q=westlock\n",
      "Processing Record 178 | Inuvik\n",
      "http://api.openweathermap.org/data/2.5/weather?units=Imperial&APPID=c61eddd25a92d387eb5ce5ac585e82fb&q=inuvik\n",
      "Processing Record 179 | Orlik\n",
      "http://api.openweathermap.org/data/2.5/weather?units=Imperial&APPID=c61eddd25a92d387eb5ce5ac585e82fb&q=orlik\n",
      "Processing Record 180 | Port Elizabeth\n",
      "http://api.openweathermap.org/data/2.5/weather?units=Imperial&APPID=c61eddd25a92d387eb5ce5ac585e82fb&q=port elizabeth\n",
      "Processing Record 181 | Tuatapere\n",
      "http://api.openweathermap.org/data/2.5/weather?units=Imperial&APPID=c61eddd25a92d387eb5ce5ac585e82fb&q=tuatapere\n",
      "Processing Record 182 | Kisangani\n",
      "http://api.openweathermap.org/data/2.5/weather?units=Imperial&APPID=c61eddd25a92d387eb5ce5ac585e82fb&q=kisangani\n",
      "Processing Record 183 | Alofi\n",
      "http://api.openweathermap.org/data/2.5/weather?units=Imperial&APPID=c61eddd25a92d387eb5ce5ac585e82fb&q=alofi\n",
      "Processing Record 184 | Oistins\n",
      "http://api.openweathermap.org/data/2.5/weather?units=Imperial&APPID=c61eddd25a92d387eb5ce5ac585e82fb&q=oistins\n",
      "Processing Record 185 | Waddān\n",
      "http://api.openweathermap.org/data/2.5/weather?units=Imperial&APPID=c61eddd25a92d387eb5ce5ac585e82fb&q=waddan\n",
      "Processing Record 186 | Whitehorse\n",
      "http://api.openweathermap.org/data/2.5/weather?units=Imperial&APPID=c61eddd25a92d387eb5ce5ac585e82fb&q=whitehorse\n",
      "Processing Record 187 | Thompson\n",
      "http://api.openweathermap.org/data/2.5/weather?units=Imperial&APPID=c61eddd25a92d387eb5ce5ac585e82fb&q=thompson\n",
      "Processing Record 188 | Igarka\n",
      "http://api.openweathermap.org/data/2.5/weather?units=Imperial&APPID=c61eddd25a92d387eb5ce5ac585e82fb&q=igarka\n",
      "Processing Record 189 | Port Keats\n",
      "http://api.openweathermap.org/data/2.5/weather?units=Imperial&APPID=c61eddd25a92d387eb5ce5ac585e82fb&q=port keats\n",
      "City not found. Skipping...\n",
      "Processing Record 190 | Te Anau\n",
      "http://api.openweathermap.org/data/2.5/weather?units=Imperial&APPID=c61eddd25a92d387eb5ce5ac585e82fb&q=te anau\n",
      "Processing Record 191 | Gerāsh\n",
      "http://api.openweathermap.org/data/2.5/weather?units=Imperial&APPID=c61eddd25a92d387eb5ce5ac585e82fb&q=gerash\n",
      "Processing Record 192 | Fairlie\n",
      "http://api.openweathermap.org/data/2.5/weather?units=Imperial&APPID=c61eddd25a92d387eb5ce5ac585e82fb&q=fairlie\n",
      "Processing Record 193 | Sørland\n",
      "http://api.openweathermap.org/data/2.5/weather?units=Imperial&APPID=c61eddd25a92d387eb5ce5ac585e82fb&q=sorland\n",
      "Processing Record 194 | Olafsvik\n",
      "http://api.openweathermap.org/data/2.5/weather?units=Imperial&APPID=c61eddd25a92d387eb5ce5ac585e82fb&q=olafsvik\n",
      "Processing Record 195 | Sinop Province\n",
      "http://api.openweathermap.org/data/2.5/weather?units=Imperial&APPID=c61eddd25a92d387eb5ce5ac585e82fb&q=sinop\n",
      "Processing Record 196 | Burnie\n",
      "http://api.openweathermap.org/data/2.5/weather?units=Imperial&APPID=c61eddd25a92d387eb5ce5ac585e82fb&q=burnie\n",
      "Processing Record 197 | Upernavik\n",
      "http://api.openweathermap.org/data/2.5/weather?units=Imperial&APPID=c61eddd25a92d387eb5ce5ac585e82fb&q=upernavik\n",
      "Processing Record 198 | Merauke\n",
      "http://api.openweathermap.org/data/2.5/weather?units=Imperial&APPID=c61eddd25a92d387eb5ce5ac585e82fb&q=merauke\n",
      "Processing Record 199 | Yangi Marg`ilon\n",
      "http://api.openweathermap.org/data/2.5/weather?units=Imperial&APPID=c61eddd25a92d387eb5ce5ac585e82fb&q=komsomolskiy\n",
      "Processing Record 200 | Marabu\n",
      "http://api.openweathermap.org/data/2.5/weather?units=Imperial&APPID=c61eddd25a92d387eb5ce5ac585e82fb&q=miri\n",
      "Processing Record 201 | Mandalgovi\n",
      "http://api.openweathermap.org/data/2.5/weather?units=Imperial&APPID=c61eddd25a92d387eb5ce5ac585e82fb&q=mandalgovi\n",
      "Processing Record 202 | Puerto Ayacucho\n",
      "http://api.openweathermap.org/data/2.5/weather?units=Imperial&APPID=c61eddd25a92d387eb5ce5ac585e82fb&q=puerto ayacucho\n",
      "Processing Record 203 | Santa Marta\n",
      "http://api.openweathermap.org/data/2.5/weather?units=Imperial&APPID=c61eddd25a92d387eb5ce5ac585e82fb&q=santa marta\n",
      "Processing Record 204 | Pevek\n",
      "http://api.openweathermap.org/data/2.5/weather?units=Imperial&APPID=c61eddd25a92d387eb5ce5ac585e82fb&q=pevek\n",
      "Processing Record 205 | Vila Velha\n",
      "http://api.openweathermap.org/data/2.5/weather?units=Imperial&APPID=c61eddd25a92d387eb5ce5ac585e82fb&q=vila velha\n",
      "Processing Record 206 | Chabahar\n",
      "http://api.openweathermap.org/data/2.5/weather?units=Imperial&APPID=c61eddd25a92d387eb5ce5ac585e82fb&q=chabahar\n",
      "Processing Record 207 | Sitka\n",
      "http://api.openweathermap.org/data/2.5/weather?units=Imperial&APPID=c61eddd25a92d387eb5ce5ac585e82fb&q=sitka\n",
      "Processing Record 208 | Bibiani\n",
      "http://api.openweathermap.org/data/2.5/weather?units=Imperial&APPID=c61eddd25a92d387eb5ce5ac585e82fb&q=bibiani\n",
      "Processing Record 209 | Hearst\n",
      "http://api.openweathermap.org/data/2.5/weather?units=Imperial&APPID=c61eddd25a92d387eb5ce5ac585e82fb&q=hearst\n",
      "Processing Record 210 | Inta\n",
      "http://api.openweathermap.org/data/2.5/weather?units=Imperial&APPID=c61eddd25a92d387eb5ce5ac585e82fb&q=inta\n",
      "Processing Record 211 | Lerwick\n",
      "http://api.openweathermap.org/data/2.5/weather?units=Imperial&APPID=c61eddd25a92d387eb5ce5ac585e82fb&q=lerwick\n",
      "City not found. Skipping...\n",
      "Processing Record 212 | Balud\n",
      "http://api.openweathermap.org/data/2.5/weather?units=Imperial&APPID=c61eddd25a92d387eb5ce5ac585e82fb&q=balud\n",
      "Processing Record 213 | Launceston\n",
      "http://api.openweathermap.org/data/2.5/weather?units=Imperial&APPID=c61eddd25a92d387eb5ce5ac585e82fb&q=launceston\n",
      "Processing Record 214 | Imeni Poliny Osipenko\n",
      "http://api.openweathermap.org/data/2.5/weather?units=Imperial&APPID=c61eddd25a92d387eb5ce5ac585e82fb&q=imeni poliny osipenko\n",
      "Processing Record 215 | Prieska\n",
      "http://api.openweathermap.org/data/2.5/weather?units=Imperial&APPID=c61eddd25a92d387eb5ce5ac585e82fb&q=prieska\n",
      "Processing Record 216 | Kaitangata\n",
      "http://api.openweathermap.org/data/2.5/weather?units=Imperial&APPID=c61eddd25a92d387eb5ce5ac585e82fb&q=kaitangata\n",
      "Processing Record 217 | Laguna\n",
      "http://api.openweathermap.org/data/2.5/weather?units=Imperial&APPID=c61eddd25a92d387eb5ce5ac585e82fb&q=laguna\n",
      "Processing Record 218 | Coelho Neto\n",
      "http://api.openweathermap.org/data/2.5/weather?units=Imperial&APPID=c61eddd25a92d387eb5ce5ac585e82fb&q=coelho neto\n",
      "Processing Record 219 | Sept-Îles\n",
      "http://api.openweathermap.org/data/2.5/weather?units=Imperial&APPID=c61eddd25a92d387eb5ce5ac585e82fb&q=sept-iles\n",
      "Processing Record 220 | Zangakatun\n",
      "http://api.openweathermap.org/data/2.5/weather?units=Imperial&APPID=c61eddd25a92d387eb5ce5ac585e82fb&q=zangakatun\n",
      "Processing Record 221 | Kaeo\n",
      "http://api.openweathermap.org/data/2.5/weather?units=Imperial&APPID=c61eddd25a92d387eb5ce5ac585e82fb&q=kaeo\n",
      "City not found. Skipping...\n",
      "City not found. Skipping...\n",
      "Processing Record 222 | Dakar\n",
      "http://api.openweathermap.org/data/2.5/weather?units=Imperial&APPID=c61eddd25a92d387eb5ce5ac585e82fb&q=dakar\n",
      "Processing Record 223 | Fort Madison\n",
      "http://api.openweathermap.org/data/2.5/weather?units=Imperial&APPID=c61eddd25a92d387eb5ce5ac585e82fb&q=fort madison\n",
      "Processing Record 224 | Saint-Pierre\n",
      "http://api.openweathermap.org/data/2.5/weather?units=Imperial&APPID=c61eddd25a92d387eb5ce5ac585e82fb&q=saint-pierre\n",
      "Processing Record 225 | Talcahuano\n",
      "http://api.openweathermap.org/data/2.5/weather?units=Imperial&APPID=c61eddd25a92d387eb5ce5ac585e82fb&q=talcahuano\n",
      "Processing Record 226 | Saint George\n",
      "http://api.openweathermap.org/data/2.5/weather?units=Imperial&APPID=c61eddd25a92d387eb5ce5ac585e82fb&q=saint george\n",
      "Processing Record 227 | Sri Aman\n",
      "http://api.openweathermap.org/data/2.5/weather?units=Imperial&APPID=c61eddd25a92d387eb5ce5ac585e82fb&q=sri aman\n",
      "Processing Record 228 | Suratgarh\n",
      "http://api.openweathermap.org/data/2.5/weather?units=Imperial&APPID=c61eddd25a92d387eb5ce5ac585e82fb&q=suratgarh\n",
      "Processing Record 229 | Amapá\n",
      "http://api.openweathermap.org/data/2.5/weather?units=Imperial&APPID=c61eddd25a92d387eb5ce5ac585e82fb&q=amapa\n",
      "Processing Record 230 | Nuevo Progreso\n",
      "http://api.openweathermap.org/data/2.5/weather?units=Imperial&APPID=c61eddd25a92d387eb5ce5ac585e82fb&q=nuevo progreso\n",
      "Processing Record 231 | Jizan\n",
      "http://api.openweathermap.org/data/2.5/weather?units=Imperial&APPID=c61eddd25a92d387eb5ce5ac585e82fb&q=jizan\n",
      "Processing Record 232 | Ambo\n",
      "http://api.openweathermap.org/data/2.5/weather?units=Imperial&APPID=c61eddd25a92d387eb5ce5ac585e82fb&q=ambo\n",
      "Processing Record 233 | Opuwo\n",
      "http://api.openweathermap.org/data/2.5/weather?units=Imperial&APPID=c61eddd25a92d387eb5ce5ac585e82fb&q=opuwo\n",
      "City not found. Skipping...\n",
      "Processing Record 234 | Katsuura\n",
      "http://api.openweathermap.org/data/2.5/weather?units=Imperial&APPID=c61eddd25a92d387eb5ce5ac585e82fb&q=katsuura\n",
      "Processing Record 235 | Bow Island\n",
      "http://api.openweathermap.org/data/2.5/weather?units=Imperial&APPID=c61eddd25a92d387eb5ce5ac585e82fb&q=bow island\n",
      "Processing Record 236 | Staropyshminsk\n",
      "http://api.openweathermap.org/data/2.5/weather?units=Imperial&APPID=c61eddd25a92d387eb5ce5ac585e82fb&q=staropyshminsk\n",
      "Processing Record 237 | Durazno\n",
      "http://api.openweathermap.org/data/2.5/weather?units=Imperial&APPID=c61eddd25a92d387eb5ce5ac585e82fb&q=durazno\n",
      "Processing Record 238 | Margate\n",
      "http://api.openweathermap.org/data/2.5/weather?units=Imperial&APPID=c61eddd25a92d387eb5ce5ac585e82fb&q=margate\n",
      "Processing Record 239 | Cherskiy\n",
      "http://api.openweathermap.org/data/2.5/weather?units=Imperial&APPID=c61eddd25a92d387eb5ce5ac585e82fb&q=cherskiy\n",
      "Processing Record 240 | Mizoch\n",
      "http://api.openweathermap.org/data/2.5/weather?units=Imperial&APPID=c61eddd25a92d387eb5ce5ac585e82fb&q=mizoch\n",
      "City not found. Skipping...\n",
      "Processing Record 241 | Progreso\n",
      "http://api.openweathermap.org/data/2.5/weather?units=Imperial&APPID=c61eddd25a92d387eb5ce5ac585e82fb&q=progreso\n",
      "Processing Record 242 | Tres Arroyos\n",
      "http://api.openweathermap.org/data/2.5/weather?units=Imperial&APPID=c61eddd25a92d387eb5ce5ac585e82fb&q=tres arroyos\n",
      "City not found. Skipping...\n",
      "Processing Record 243 | São José da Coroa Grande\n",
      "http://api.openweathermap.org/data/2.5/weather?units=Imperial&APPID=c61eddd25a92d387eb5ce5ac585e82fb&q=sao jose da coroa grande\n",
      "Processing Record 244 | Bethel\n",
      "http://api.openweathermap.org/data/2.5/weather?units=Imperial&APPID=c61eddd25a92d387eb5ce5ac585e82fb&q=bethel\n",
      "Processing Record 245 | Seminole\n",
      "http://api.openweathermap.org/data/2.5/weather?units=Imperial&APPID=c61eddd25a92d387eb5ce5ac585e82fb&q=seminole\n",
      "Processing Record 246 | Hoa Binh\n",
      "http://api.openweathermap.org/data/2.5/weather?units=Imperial&APPID=c61eddd25a92d387eb5ce5ac585e82fb&q=hoa binh\n",
      "Processing Record 247 | Nyrob\n",
      "http://api.openweathermap.org/data/2.5/weather?units=Imperial&APPID=c61eddd25a92d387eb5ce5ac585e82fb&q=nyrob\n",
      "Processing Record 248 | Nemuro\n",
      "http://api.openweathermap.org/data/2.5/weather?units=Imperial&APPID=c61eddd25a92d387eb5ce5ac585e82fb&q=nemuro\n",
      "Processing Record 249 | Ligayan\n",
      "http://api.openweathermap.org/data/2.5/weather?units=Imperial&APPID=c61eddd25a92d387eb5ce5ac585e82fb&q=ligayan\n",
      "Processing Record 250 | Jackson\n",
      "http://api.openweathermap.org/data/2.5/weather?units=Imperial&APPID=c61eddd25a92d387eb5ce5ac585e82fb&q=jackson\n",
      "City not found. Skipping...\n",
      "Processing Record 251 | Broken Hill\n",
      "http://api.openweathermap.org/data/2.5/weather?units=Imperial&APPID=c61eddd25a92d387eb5ce5ac585e82fb&q=broken hill\n",
      "Processing Record 252 | Sozimskiy\n",
      "http://api.openweathermap.org/data/2.5/weather?units=Imperial&APPID=c61eddd25a92d387eb5ce5ac585e82fb&q=sozimskiy\n",
      "Processing Record 253 | Flinders\n",
      "http://api.openweathermap.org/data/2.5/weather?units=Imperial&APPID=c61eddd25a92d387eb5ce5ac585e82fb&q=flinders\n",
      "Processing Record 254 | Adrar\n",
      "http://api.openweathermap.org/data/2.5/weather?units=Imperial&APPID=c61eddd25a92d387eb5ce5ac585e82fb&q=adrar\n",
      "Processing Record 255 | Rocha\n",
      "http://api.openweathermap.org/data/2.5/weather?units=Imperial&APPID=c61eddd25a92d387eb5ce5ac585e82fb&q=rocha\n",
      "Processing Record 256 | San Policarpo\n",
      "http://api.openweathermap.org/data/2.5/weather?units=Imperial&APPID=c61eddd25a92d387eb5ce5ac585e82fb&q=san policarpo\n",
      "Processing Record 257 | Sambava\n",
      "http://api.openweathermap.org/data/2.5/weather?units=Imperial&APPID=c61eddd25a92d387eb5ce5ac585e82fb&q=sambava\n",
      "Processing Record 258 | Ust-Kuyga\n",
      "http://api.openweathermap.org/data/2.5/weather?units=Imperial&APPID=c61eddd25a92d387eb5ce5ac585e82fb&q=ust-kuyga\n",
      "City not found. Skipping...\n",
      "Processing Record 259 | Coquimbo\n",
      "http://api.openweathermap.org/data/2.5/weather?units=Imperial&APPID=c61eddd25a92d387eb5ce5ac585e82fb&q=coquimbo\n",
      "Processing Record 260 | Biryusinsk\n",
      "http://api.openweathermap.org/data/2.5/weather?units=Imperial&APPID=c61eddd25a92d387eb5ce5ac585e82fb&q=biryusinsk\n",
      "Processing Record 261 | Saint-Louis\n",
      "http://api.openweathermap.org/data/2.5/weather?units=Imperial&APPID=c61eddd25a92d387eb5ce5ac585e82fb&q=saint-louis\n",
      "Processing Record 262 | Hualmay\n",
      "http://api.openweathermap.org/data/2.5/weather?units=Imperial&APPID=c61eddd25a92d387eb5ce5ac585e82fb&q=hualmay\n",
      "Processing Record 263 | Irbeyskoye\n",
      "http://api.openweathermap.org/data/2.5/weather?units=Imperial&APPID=c61eddd25a92d387eb5ce5ac585e82fb&q=irbeyskoye\n",
      "Processing Record 264 | Ilhabela\n",
      "http://api.openweathermap.org/data/2.5/weather?units=Imperial&APPID=c61eddd25a92d387eb5ce5ac585e82fb&q=ilhabela\n",
      "Processing Record 265 | Hastings\n",
      "http://api.openweathermap.org/data/2.5/weather?units=Imperial&APPID=c61eddd25a92d387eb5ce5ac585e82fb&q=hastings\n",
      "Processing Record 266 | Puerto Cabello\n",
      "http://api.openweathermap.org/data/2.5/weather?units=Imperial&APPID=c61eddd25a92d387eb5ce5ac585e82fb&q=puerto cabello\n",
      "Processing Record 267 | Kiunga\n",
      "http://api.openweathermap.org/data/2.5/weather?units=Imperial&APPID=c61eddd25a92d387eb5ce5ac585e82fb&q=kiunga\n",
      "Processing Record 268 | Vao\n",
      "http://api.openweathermap.org/data/2.5/weather?units=Imperial&APPID=c61eddd25a92d387eb5ce5ac585e82fb&q=vao\n",
      "Processing Record 269 | Sarāhan\n",
      "http://api.openweathermap.org/data/2.5/weather?units=Imperial&APPID=c61eddd25a92d387eb5ce5ac585e82fb&q=sarahan\n",
      "Processing Record 270 | Miechów\n",
      "http://api.openweathermap.org/data/2.5/weather?units=Imperial&APPID=c61eddd25a92d387eb5ce5ac585e82fb&q=miechow\n",
      "Processing Record 271 | Dingle\n",
      "http://api.openweathermap.org/data/2.5/weather?units=Imperial&APPID=c61eddd25a92d387eb5ce5ac585e82fb&q=dingle\n",
      "Processing Record 272 | Poum\n",
      "http://api.openweathermap.org/data/2.5/weather?units=Imperial&APPID=c61eddd25a92d387eb5ce5ac585e82fb&q=poum\n",
      "City not found. Skipping...\n",
      "Processing Record 273 | Itarema\n",
      "http://api.openweathermap.org/data/2.5/weather?units=Imperial&APPID=c61eddd25a92d387eb5ce5ac585e82fb&q=itarema\n",
      "Processing Record 274 | Hirara\n",
      "http://api.openweathermap.org/data/2.5/weather?units=Imperial&APPID=c61eddd25a92d387eb5ce5ac585e82fb&q=hirara\n",
      "Processing Record 275 | Iralaya\n",
      "http://api.openweathermap.org/data/2.5/weather?units=Imperial&APPID=c61eddd25a92d387eb5ce5ac585e82fb&q=iralaya\n",
      "City not found. Skipping...\n",
      "Processing Record 276 | Nordby\n",
      "http://api.openweathermap.org/data/2.5/weather?units=Imperial&APPID=c61eddd25a92d387eb5ce5ac585e82fb&q=nordby\n",
      "Processing Record 277 | Anadyr\n",
      "http://api.openweathermap.org/data/2.5/weather?units=Imperial&APPID=c61eddd25a92d387eb5ce5ac585e82fb&q=anadyr\n",
      "Processing Record 278 | Dunedin\n",
      "http://api.openweathermap.org/data/2.5/weather?units=Imperial&APPID=c61eddd25a92d387eb5ce5ac585e82fb&q=dunedin\n",
      "Processing Record 279 | Kahului\n",
      "http://api.openweathermap.org/data/2.5/weather?units=Imperial&APPID=c61eddd25a92d387eb5ce5ac585e82fb&q=kahului\n",
      "Processing Record 280 | Shīeli\n",
      "http://api.openweathermap.org/data/2.5/weather?units=Imperial&APPID=c61eddd25a92d387eb5ce5ac585e82fb&q=shieli\n",
      "Processing Record 281 | Jalalabad\n",
      "http://api.openweathermap.org/data/2.5/weather?units=Imperial&APPID=c61eddd25a92d387eb5ce5ac585e82fb&q=jalalabad\n",
      "Processing Record 282 | Zhicheng\n",
      "http://api.openweathermap.org/data/2.5/weather?units=Imperial&APPID=c61eddd25a92d387eb5ce5ac585e82fb&q=zhicheng\n",
      "Processing Record 283 | Itapema\n",
      "http://api.openweathermap.org/data/2.5/weather?units=Imperial&APPID=c61eddd25a92d387eb5ce5ac585e82fb&q=itapema\n",
      "Processing Record 284 | Bud\n",
      "http://api.openweathermap.org/data/2.5/weather?units=Imperial&APPID=c61eddd25a92d387eb5ce5ac585e82fb&q=bud\n",
      "Processing Record 285 | Ambon City\n",
      "http://api.openweathermap.org/data/2.5/weather?units=Imperial&APPID=c61eddd25a92d387eb5ce5ac585e82fb&q=ambon\n",
      "Processing Record 286 | Mareeba\n",
      "http://api.openweathermap.org/data/2.5/weather?units=Imperial&APPID=c61eddd25a92d387eb5ce5ac585e82fb&q=mareeba\n",
      "Processing Record 287 | Cabo San Lucas\n",
      "http://api.openweathermap.org/data/2.5/weather?units=Imperial&APPID=c61eddd25a92d387eb5ce5ac585e82fb&q=cabo san lucas\n",
      "Processing Record 288 | Halkirk\n",
      "http://api.openweathermap.org/data/2.5/weather?units=Imperial&APPID=c61eddd25a92d387eb5ce5ac585e82fb&q=halkirk\n",
      "Processing Record 289 | Korla\n",
      "http://api.openweathermap.org/data/2.5/weather?units=Imperial&APPID=c61eddd25a92d387eb5ce5ac585e82fb&q=korla\n",
      "Processing Record 290 | Porto Torres\n",
      "http://api.openweathermap.org/data/2.5/weather?units=Imperial&APPID=c61eddd25a92d387eb5ce5ac585e82fb&q=porto torres\n",
      "Processing Record 291 | Taltal\n",
      "http://api.openweathermap.org/data/2.5/weather?units=Imperial&APPID=c61eddd25a92d387eb5ce5ac585e82fb&q=taltal\n",
      "Processing Record 292 | Gao\n",
      "http://api.openweathermap.org/data/2.5/weather?units=Imperial&APPID=c61eddd25a92d387eb5ce5ac585e82fb&q=gao\n",
      "Processing Record 293 | Husavik\n",
      "http://api.openweathermap.org/data/2.5/weather?units=Imperial&APPID=c61eddd25a92d387eb5ce5ac585e82fb&q=husavik\n",
      "Processing Record 294 | Mount Gambier\n",
      "http://api.openweathermap.org/data/2.5/weather?units=Imperial&APPID=c61eddd25a92d387eb5ce5ac585e82fb&q=mount gambier\n",
      "Processing Record 295 | Haines Junction\n",
      "http://api.openweathermap.org/data/2.5/weather?units=Imperial&APPID=c61eddd25a92d387eb5ce5ac585e82fb&q=haines junction\n",
      "City not found. Skipping...\n",
      "Processing Record 296 | Mahébourg\n",
      "http://api.openweathermap.org/data/2.5/weather?units=Imperial&APPID=c61eddd25a92d387eb5ce5ac585e82fb&q=mahebourg\n",
      "Processing Record 297 | Mastic Beach\n",
      "http://api.openweathermap.org/data/2.5/weather?units=Imperial&APPID=c61eddd25a92d387eb5ce5ac585e82fb&q=mastic beach\n",
      "Processing Record 298 | Bambanglipuro\n",
      "http://api.openweathermap.org/data/2.5/weather?units=Imperial&APPID=c61eddd25a92d387eb5ce5ac585e82fb&q=bambanglipuro\n",
      "Processing Record 299 | Saint Anthony\n",
      "http://api.openweathermap.org/data/2.5/weather?units=Imperial&APPID=c61eddd25a92d387eb5ce5ac585e82fb&q=saint anthony\n",
      "Processing Record 300 | Korem\n",
      "http://api.openweathermap.org/data/2.5/weather?units=Imperial&APPID=c61eddd25a92d387eb5ce5ac585e82fb&q=korem\n",
      "Processing Record 301 | Verkhnevilyuysk\n",
      "http://api.openweathermap.org/data/2.5/weather?units=Imperial&APPID=c61eddd25a92d387eb5ce5ac585e82fb&q=verkhnevilyuysk\n",
      "Processing Record 302 | Necochea\n",
      "http://api.openweathermap.org/data/2.5/weather?units=Imperial&APPID=c61eddd25a92d387eb5ce5ac585e82fb&q=necochea\n",
      "Processing Record 303 | Weinan\n",
      "http://api.openweathermap.org/data/2.5/weather?units=Imperial&APPID=c61eddd25a92d387eb5ce5ac585e82fb&q=weinan\n",
      "Processing Record 304 | Vitim\n",
      "http://api.openweathermap.org/data/2.5/weather?units=Imperial&APPID=c61eddd25a92d387eb5ce5ac585e82fb&q=vitim\n",
      "Processing Record 305 | Seoul\n",
      "http://api.openweathermap.org/data/2.5/weather?units=Imperial&APPID=c61eddd25a92d387eb5ce5ac585e82fb&q=seoul\n",
      "Processing Record 306 | Timberlake\n",
      "http://api.openweathermap.org/data/2.5/weather?units=Imperial&APPID=c61eddd25a92d387eb5ce5ac585e82fb&q=timberlake\n",
      "Processing Record 307 | Azángaro\n",
      "http://api.openweathermap.org/data/2.5/weather?units=Imperial&APPID=c61eddd25a92d387eb5ce5ac585e82fb&q=azangaro\n",
      "Processing Record 308 | Iqaluit\n",
      "http://api.openweathermap.org/data/2.5/weather?units=Imperial&APPID=c61eddd25a92d387eb5ce5ac585e82fb&q=iqaluit\n",
      "Processing Record 309 | Yenagoa\n",
      "http://api.openweathermap.org/data/2.5/weather?units=Imperial&APPID=c61eddd25a92d387eb5ce5ac585e82fb&q=yenagoa\n",
      "Processing Record 310 | Constitución\n",
      "http://api.openweathermap.org/data/2.5/weather?units=Imperial&APPID=c61eddd25a92d387eb5ce5ac585e82fb&q=constitucion\n",
      "Processing Record 311 | Tiznit Province\n",
      "http://api.openweathermap.org/data/2.5/weather?units=Imperial&APPID=c61eddd25a92d387eb5ce5ac585e82fb&q=tiznit\n",
      "Processing Record 312 | Ixtapa\n",
      "http://api.openweathermap.org/data/2.5/weather?units=Imperial&APPID=c61eddd25a92d387eb5ce5ac585e82fb&q=ixtapa\n",
      "Processing Record 313 | Lavrentiya\n",
      "http://api.openweathermap.org/data/2.5/weather?units=Imperial&APPID=c61eddd25a92d387eb5ce5ac585e82fb&q=lavrentiya\n",
      "Processing Record 314 | Namwala\n",
      "http://api.openweathermap.org/data/2.5/weather?units=Imperial&APPID=c61eddd25a92d387eb5ce5ac585e82fb&q=namwala\n",
      "Processing Record 315 | Río Gallegos\n",
      "http://api.openweathermap.org/data/2.5/weather?units=Imperial&APPID=c61eddd25a92d387eb5ce5ac585e82fb&q=rio gallegos\n",
      "City not found. Skipping...\n",
      "Processing Record 316 | Preobrazheniye\n",
      "http://api.openweathermap.org/data/2.5/weather?units=Imperial&APPID=c61eddd25a92d387eb5ce5ac585e82fb&q=preobrazheniye\n",
      "City not found. Skipping...\n",
      "Processing Record 317 | Rawson\n",
      "http://api.openweathermap.org/data/2.5/weather?units=Imperial&APPID=c61eddd25a92d387eb5ce5ac585e82fb&q=rawson\n",
      "Processing Record 318 | Province of Trapani\n",
      "http://api.openweathermap.org/data/2.5/weather?units=Imperial&APPID=c61eddd25a92d387eb5ce5ac585e82fb&q=trapani\n",
      "City not found. Skipping...\n",
      "Processing Record 319 | Khasan\n",
      "http://api.openweathermap.org/data/2.5/weather?units=Imperial&APPID=c61eddd25a92d387eb5ce5ac585e82fb&q=khasan\n",
      "Processing Record 320 | Bella Vista\n",
      "http://api.openweathermap.org/data/2.5/weather?units=Imperial&APPID=c61eddd25a92d387eb5ce5ac585e82fb&q=bella vista\n",
      "Processing Record 321 | Tura\n",
      "http://api.openweathermap.org/data/2.5/weather?units=Imperial&APPID=c61eddd25a92d387eb5ce5ac585e82fb&q=tura\n",
      "Processing Record 322 | Ancud\n",
      "http://api.openweathermap.org/data/2.5/weather?units=Imperial&APPID=c61eddd25a92d387eb5ce5ac585e82fb&q=ancud\n",
      "Processing Record 323 | Seydi\n",
      "http://api.openweathermap.org/data/2.5/weather?units=Imperial&APPID=c61eddd25a92d387eb5ce5ac585e82fb&q=seydi\n",
      "Processing Record 324 | Ostrovnoy\n",
      "http://api.openweathermap.org/data/2.5/weather?units=Imperial&APPID=c61eddd25a92d387eb5ce5ac585e82fb&q=ostrovnoy\n",
      "Processing Record 325 | Coahuayana Viejo\n",
      "http://api.openweathermap.org/data/2.5/weather?units=Imperial&APPID=c61eddd25a92d387eb5ce5ac585e82fb&q=coahuayana\n",
      "Processing Record 326 | Salalah\n",
      "http://api.openweathermap.org/data/2.5/weather?units=Imperial&APPID=c61eddd25a92d387eb5ce5ac585e82fb&q=salalah\n",
      "Processing Record 327 | Bayan\n",
      "http://api.openweathermap.org/data/2.5/weather?units=Imperial&APPID=c61eddd25a92d387eb5ce5ac585e82fb&q=bayan\n",
      "Processing Record 328 | Pangnirtung\n",
      "http://api.openweathermap.org/data/2.5/weather?units=Imperial&APPID=c61eddd25a92d387eb5ce5ac585e82fb&q=pangnirtung\n",
      "Processing Record 329 | Bantacan\n",
      "http://api.openweathermap.org/data/2.5/weather?units=Imperial&APPID=c61eddd25a92d387eb5ce5ac585e82fb&q=bantacan\n",
      "Processing Record 330 | Auki\n",
      "http://api.openweathermap.org/data/2.5/weather?units=Imperial&APPID=c61eddd25a92d387eb5ce5ac585e82fb&q=auki\n",
      "Processing Record 331 | Abbeville\n",
      "http://api.openweathermap.org/data/2.5/weather?units=Imperial&APPID=c61eddd25a92d387eb5ce5ac585e82fb&q=abbeville\n",
      "Processing Record 332 | Patrocínio\n",
      "http://api.openweathermap.org/data/2.5/weather?units=Imperial&APPID=c61eddd25a92d387eb5ce5ac585e82fb&q=patrocinio\n",
      "City not found. Skipping...\n",
      "Processing Record 333 | Daru\n",
      "http://api.openweathermap.org/data/2.5/weather?units=Imperial&APPID=c61eddd25a92d387eb5ce5ac585e82fb&q=daru\n",
      "Processing Record 334 | Biak\n",
      "http://api.openweathermap.org/data/2.5/weather?units=Imperial&APPID=c61eddd25a92d387eb5ce5ac585e82fb&q=biak\n",
      "Processing Record 335 | Turukhansk\n",
      "http://api.openweathermap.org/data/2.5/weather?units=Imperial&APPID=c61eddd25a92d387eb5ce5ac585e82fb&q=turukhansk\n",
      "Processing Record 336 | Coyhaique\n",
      "http://api.openweathermap.org/data/2.5/weather?units=Imperial&APPID=c61eddd25a92d387eb5ce5ac585e82fb&q=coihaique\n",
      "Processing Record 337 | Viga\n",
      "http://api.openweathermap.org/data/2.5/weather?units=Imperial&APPID=c61eddd25a92d387eb5ce5ac585e82fb&q=viga\n",
      "Processing Record 338 | Malinyi\n",
      "http://api.openweathermap.org/data/2.5/weather?units=Imperial&APPID=c61eddd25a92d387eb5ce5ac585e82fb&q=malinyi\n",
      "Processing Record 339 | Srednekolymsk\n",
      "http://api.openweathermap.org/data/2.5/weather?units=Imperial&APPID=c61eddd25a92d387eb5ce5ac585e82fb&q=srednekolymsk\n",
      "Processing Record 340 | Tena\n",
      "http://api.openweathermap.org/data/2.5/weather?units=Imperial&APPID=c61eddd25a92d387eb5ce5ac585e82fb&q=tena\n",
      "Processing Record 341 | Kabompo\n",
      "http://api.openweathermap.org/data/2.5/weather?units=Imperial&APPID=c61eddd25a92d387eb5ce5ac585e82fb&q=kabompo\n",
      "Processing Record 342 | Guerrero Negro\n",
      "http://api.openweathermap.org/data/2.5/weather?units=Imperial&APPID=c61eddd25a92d387eb5ce5ac585e82fb&q=guerrero negro\n",
      "Processing Record 343 | Mayskiy\n",
      "http://api.openweathermap.org/data/2.5/weather?units=Imperial&APPID=c61eddd25a92d387eb5ce5ac585e82fb&q=mayskiy\n",
      "Processing Record 344 | Bambous Virieux\n",
      "http://api.openweathermap.org/data/2.5/weather?units=Imperial&APPID=c61eddd25a92d387eb5ce5ac585e82fb&q=bambous virieux\n",
      "Processing Record 345 | Seybaplaya\n",
      "http://api.openweathermap.org/data/2.5/weather?units=Imperial&APPID=c61eddd25a92d387eb5ce5ac585e82fb&q=seybaplaya\n",
      "Processing Record 346 | Port Macquarie\n",
      "http://api.openweathermap.org/data/2.5/weather?units=Imperial&APPID=c61eddd25a92d387eb5ce5ac585e82fb&q=port macquarie\n",
      "Processing Record 347 | Poli\n",
      "http://api.openweathermap.org/data/2.5/weather?units=Imperial&APPID=c61eddd25a92d387eb5ce5ac585e82fb&q=poli\n",
      "Processing Record 348 | Tahoua\n",
      "http://api.openweathermap.org/data/2.5/weather?units=Imperial&APPID=c61eddd25a92d387eb5ce5ac585e82fb&q=tahoua\n",
      "Processing Record 349 | La Ronge\n",
      "http://api.openweathermap.org/data/2.5/weather?units=Imperial&APPID=c61eddd25a92d387eb5ce5ac585e82fb&q=la ronge\n",
      "Processing Record 350 | Nouadhibou\n",
      "http://api.openweathermap.org/data/2.5/weather?units=Imperial&APPID=c61eddd25a92d387eb5ce5ac585e82fb&q=nouadhibou\n",
      "Processing Record 351 | Bata\n",
      "http://api.openweathermap.org/data/2.5/weather?units=Imperial&APPID=c61eddd25a92d387eb5ce5ac585e82fb&q=bata\n",
      "Processing Record 352 | Tabatinga\n",
      "http://api.openweathermap.org/data/2.5/weather?units=Imperial&APPID=c61eddd25a92d387eb5ce5ac585e82fb&q=tabatinga\n",
      "Processing Record 353 | Vila Franca do Campo\n",
      "http://api.openweathermap.org/data/2.5/weather?units=Imperial&APPID=c61eddd25a92d387eb5ce5ac585e82fb&q=vila franca do campo\n",
      "Processing Record 354 | Santa Cecília\n",
      "http://api.openweathermap.org/data/2.5/weather?units=Imperial&APPID=c61eddd25a92d387eb5ce5ac585e82fb&q=santa cecilia\n",
      "Processing Record 355 | Trairi\n",
      "http://api.openweathermap.org/data/2.5/weather?units=Imperial&APPID=c61eddd25a92d387eb5ce5ac585e82fb&q=trairi\n",
      "Processing Record 356 | Itupiranga\n",
      "http://api.openweathermap.org/data/2.5/weather?units=Imperial&APPID=c61eddd25a92d387eb5ce5ac585e82fb&q=itupiranga\n",
      "Processing Record 357 | Salta\n",
      "http://api.openweathermap.org/data/2.5/weather?units=Imperial&APPID=c61eddd25a92d387eb5ce5ac585e82fb&q=salta\n",
      "Processing Record 358 | Westport\n",
      "http://api.openweathermap.org/data/2.5/weather?units=Imperial&APPID=c61eddd25a92d387eb5ce5ac585e82fb&q=westport\n",
      "Processing Record 359 | Qasigiannguit\n",
      "http://api.openweathermap.org/data/2.5/weather?units=Imperial&APPID=c61eddd25a92d387eb5ce5ac585e82fb&q=qasigiannguit\n",
      "Processing Record 360 | Esperanza\n",
      "http://api.openweathermap.org/data/2.5/weather?units=Imperial&APPID=c61eddd25a92d387eb5ce5ac585e82fb&q=esperanza\n",
      "Processing Record 361 | Pilar\n",
      "http://api.openweathermap.org/data/2.5/weather?units=Imperial&APPID=c61eddd25a92d387eb5ce5ac585e82fb&q=pilar\n",
      "Processing Record 362 | Bandarbeyla\n",
      "http://api.openweathermap.org/data/2.5/weather?units=Imperial&APPID=c61eddd25a92d387eb5ce5ac585e82fb&q=bandarbeyla\n",
      "Processing Record 363 | Aizkraukle\n",
      "http://api.openweathermap.org/data/2.5/weather?units=Imperial&APPID=c61eddd25a92d387eb5ce5ac585e82fb&q=aizkraukle\n",
      "Processing Record 364 | Mehamn\n",
      "http://api.openweathermap.org/data/2.5/weather?units=Imperial&APPID=c61eddd25a92d387eb5ce5ac585e82fb&q=mehamn\n",
      "Processing Record 365 | Raudeberg\n",
      "http://api.openweathermap.org/data/2.5/weather?units=Imperial&APPID=c61eddd25a92d387eb5ce5ac585e82fb&q=raudeberg\n",
      "Processing Record 366 | Hamilton\n",
      "http://api.openweathermap.org/data/2.5/weather?units=Imperial&APPID=c61eddd25a92d387eb5ce5ac585e82fb&q=hamilton\n",
      "Processing Record 367 | Thunder Bay\n",
      "http://api.openweathermap.org/data/2.5/weather?units=Imperial&APPID=c61eddd25a92d387eb5ce5ac585e82fb&q=thunder bay\n",
      "Processing Record 368 | Djibouti\n",
      "http://api.openweathermap.org/data/2.5/weather?units=Imperial&APPID=c61eddd25a92d387eb5ce5ac585e82fb&q=jibuti\n",
      "Processing Record 369 | Batemans Bay\n",
      "http://api.openweathermap.org/data/2.5/weather?units=Imperial&APPID=c61eddd25a92d387eb5ce5ac585e82fb&q=batemans bay\n",
      "Processing Record 370 | Farsund\n",
      "http://api.openweathermap.org/data/2.5/weather?units=Imperial&APPID=c61eddd25a92d387eb5ce5ac585e82fb&q=farsund\n",
      "Processing Record 371 | Tottori-shi\n",
      "http://api.openweathermap.org/data/2.5/weather?units=Imperial&APPID=c61eddd25a92d387eb5ce5ac585e82fb&q=tottori\n",
      "Processing Record 372 | Montepuez\n",
      "http://api.openweathermap.org/data/2.5/weather?units=Imperial&APPID=c61eddd25a92d387eb5ce5ac585e82fb&q=montepuez\n",
      "Processing Record 373 | Los Chiles\n",
      "http://api.openweathermap.org/data/2.5/weather?units=Imperial&APPID=c61eddd25a92d387eb5ce5ac585e82fb&q=los chiles\n",
      "Processing Record 374 | Sioux Lookout\n",
      "http://api.openweathermap.org/data/2.5/weather?units=Imperial&APPID=c61eddd25a92d387eb5ce5ac585e82fb&q=sioux lookout\n",
      "Processing Record 375 | Kamaishi\n",
      "http://api.openweathermap.org/data/2.5/weather?units=Imperial&APPID=c61eddd25a92d387eb5ce5ac585e82fb&q=kamaishi\n",
      "Processing Record 376 | Monrovia\n",
      "http://api.openweathermap.org/data/2.5/weather?units=Imperial&APPID=c61eddd25a92d387eb5ce5ac585e82fb&q=monrovia\n",
      "Processing Record 377 | Aswān\n",
      "http://api.openweathermap.org/data/2.5/weather?units=Imperial&APPID=c61eddd25a92d387eb5ce5ac585e82fb&q=aswan\n",
      "Processing Record 378 | Mersing\n",
      "http://api.openweathermap.org/data/2.5/weather?units=Imperial&APPID=c61eddd25a92d387eb5ce5ac585e82fb&q=mersing\n",
      "Processing Record 379 | Buala\n",
      "http://api.openweathermap.org/data/2.5/weather?units=Imperial&APPID=c61eddd25a92d387eb5ce5ac585e82fb&q=buala\n",
      "Processing Record 380 | Placerville\n",
      "http://api.openweathermap.org/data/2.5/weather?units=Imperial&APPID=c61eddd25a92d387eb5ce5ac585e82fb&q=placerville\n",
      "City not found. Skipping...\n",
      "Processing Record 381 | Imbituba\n",
      "http://api.openweathermap.org/data/2.5/weather?units=Imperial&APPID=c61eddd25a92d387eb5ce5ac585e82fb&q=imbituba\n",
      "Processing Record 382 | Andenes\n",
      "http://api.openweathermap.org/data/2.5/weather?units=Imperial&APPID=c61eddd25a92d387eb5ce5ac585e82fb&q=andenes\n",
      "Processing Record 383 | Itoman\n",
      "http://api.openweathermap.org/data/2.5/weather?units=Imperial&APPID=c61eddd25a92d387eb5ce5ac585e82fb&q=itoman\n",
      "Processing Record 384 | Fort Nelson\n",
      "http://api.openweathermap.org/data/2.5/weather?units=Imperial&APPID=c61eddd25a92d387eb5ce5ac585e82fb&q=fort nelson\n",
      "Processing Record 385 | Punta Alta\n",
      "http://api.openweathermap.org/data/2.5/weather?units=Imperial&APPID=c61eddd25a92d387eb5ce5ac585e82fb&q=punta alta\n",
      "Processing Record 386 | Vestmannaeyjar\n",
      "http://api.openweathermap.org/data/2.5/weather?units=Imperial&APPID=c61eddd25a92d387eb5ce5ac585e82fb&q=vestmannaeyjar\n",
      "Processing Record 387 | Luga\n",
      "http://api.openweathermap.org/data/2.5/weather?units=Imperial&APPID=c61eddd25a92d387eb5ce5ac585e82fb&q=luga\n",
      "Processing Record 388 | Geraldton\n",
      "http://api.openweathermap.org/data/2.5/weather?units=Imperial&APPID=c61eddd25a92d387eb5ce5ac585e82fb&q=geraldton\n",
      "Processing Record 389 | Novoagansk\n",
      "http://api.openweathermap.org/data/2.5/weather?units=Imperial&APPID=c61eddd25a92d387eb5ce5ac585e82fb&q=novoagansk\n",
      "Processing Record 390 | Shumyachi\n",
      "http://api.openweathermap.org/data/2.5/weather?units=Imperial&APPID=c61eddd25a92d387eb5ce5ac585e82fb&q=shumyachi\n",
      "Processing Record 391 | Port Augusta\n",
      "http://api.openweathermap.org/data/2.5/weather?units=Imperial&APPID=c61eddd25a92d387eb5ce5ac585e82fb&q=port augusta\n",
      "Processing Record 392 | Luwingu\n",
      "http://api.openweathermap.org/data/2.5/weather?units=Imperial&APPID=c61eddd25a92d387eb5ce5ac585e82fb&q=luwingu\n",
      "Processing Record 393 | Hong Kong\n",
      "http://api.openweathermap.org/data/2.5/weather?units=Imperial&APPID=c61eddd25a92d387eb5ce5ac585e82fb&q=victoria\n",
      "Processing Record 394 | Äänekoski\n",
      "http://api.openweathermap.org/data/2.5/weather?units=Imperial&APPID=c61eddd25a92d387eb5ce5ac585e82fb&q=aanekoski\n",
      "Processing Record 395 | Ust-Tsilma\n",
      "http://api.openweathermap.org/data/2.5/weather?units=Imperial&APPID=c61eddd25a92d387eb5ce5ac585e82fb&q=ust-tsilma\n",
      "Processing Record 396 | Tutóia\n",
      "http://api.openweathermap.org/data/2.5/weather?units=Imperial&APPID=c61eddd25a92d387eb5ce5ac585e82fb&q=tutoia\n",
      "Processing Record 397 | Tambura\n",
      "http://api.openweathermap.org/data/2.5/weather?units=Imperial&APPID=c61eddd25a92d387eb5ce5ac585e82fb&q=tambura\n",
      "Processing Record 398 | Phan Thiet\n",
      "http://api.openweathermap.org/data/2.5/weather?units=Imperial&APPID=c61eddd25a92d387eb5ce5ac585e82fb&q=phan thiet\n",
      "City not found. Skipping...\n",
      "Processing Record 399 | Thinadhoo\n",
      "http://api.openweathermap.org/data/2.5/weather?units=Imperial&APPID=c61eddd25a92d387eb5ce5ac585e82fb&q=thinadhoo\n",
      "Processing Record 400 | Huaicheng\n",
      "http://api.openweathermap.org/data/2.5/weather?units=Imperial&APPID=c61eddd25a92d387eb5ce5ac585e82fb&q=huaicheng\n",
      "Processing Record 401 | Yaan\n",
      "http://api.openweathermap.org/data/2.5/weather?units=Imperial&APPID=c61eddd25a92d387eb5ce5ac585e82fb&q=yaan\n",
      "Processing Record 402 | Turaif\n",
      "http://api.openweathermap.org/data/2.5/weather?units=Imperial&APPID=c61eddd25a92d387eb5ce5ac585e82fb&q=turayf\n",
      "Processing Record 403 | Paamiut\n",
      "http://api.openweathermap.org/data/2.5/weather?units=Imperial&APPID=c61eddd25a92d387eb5ce5ac585e82fb&q=paamiut\n",
      "Processing Record 404 | Gizo Government Station\n",
      "http://api.openweathermap.org/data/2.5/weather?units=Imperial&APPID=c61eddd25a92d387eb5ce5ac585e82fb&q=gizo\n",
      "Processing Record 405 | Bereda\n",
      "http://api.openweathermap.org/data/2.5/weather?units=Imperial&APPID=c61eddd25a92d387eb5ce5ac585e82fb&q=bereda\n",
      "Processing Record 406 | Samarai\n",
      "http://api.openweathermap.org/data/2.5/weather?units=Imperial&APPID=c61eddd25a92d387eb5ce5ac585e82fb&q=samarai\n",
      "Processing Record 407 | Abnūb\n",
      "http://api.openweathermap.org/data/2.5/weather?units=Imperial&APPID=c61eddd25a92d387eb5ce5ac585e82fb&q=abnub\n",
      "Processing Record 408 | Tauragė\n",
      "http://api.openweathermap.org/data/2.5/weather?units=Imperial&APPID=c61eddd25a92d387eb5ce5ac585e82fb&q=taurage\n",
      "Processing Record 409 | Sorong\n",
      "http://api.openweathermap.org/data/2.5/weather?units=Imperial&APPID=c61eddd25a92d387eb5ce5ac585e82fb&q=sorong\n",
      "Processing Record 410 | Cap Malheureux\n",
      "http://api.openweathermap.org/data/2.5/weather?units=Imperial&APPID=c61eddd25a92d387eb5ce5ac585e82fb&q=cap malheureux\n",
      "Processing Record 411 | Novyye Burasy\n",
      "http://api.openweathermap.org/data/2.5/weather?units=Imperial&APPID=c61eddd25a92d387eb5ce5ac585e82fb&q=novyye burasy\n",
      "Processing Record 412 | Grand Gaube\n",
      "http://api.openweathermap.org/data/2.5/weather?units=Imperial&APPID=c61eddd25a92d387eb5ce5ac585e82fb&q=grand gaube\n",
      "Processing Record 413 | San Quintín\n",
      "http://api.openweathermap.org/data/2.5/weather?units=Imperial&APPID=c61eddd25a92d387eb5ce5ac585e82fb&q=san quintin\n",
      "Processing Record 414 | Businga\n",
      "http://api.openweathermap.org/data/2.5/weather?units=Imperial&APPID=c61eddd25a92d387eb5ce5ac585e82fb&q=businga\n",
      "Processing Record 415 | Sabana de Torres\n",
      "http://api.openweathermap.org/data/2.5/weather?units=Imperial&APPID=c61eddd25a92d387eb5ce5ac585e82fb&q=sabana de torres\n",
      "Processing Record 416 | Fortuna\n",
      "http://api.openweathermap.org/data/2.5/weather?units=Imperial&APPID=c61eddd25a92d387eb5ce5ac585e82fb&q=fortuna\n",
      "Processing Record 417 | Teeli\n",
      "http://api.openweathermap.org/data/2.5/weather?units=Imperial&APPID=c61eddd25a92d387eb5ce5ac585e82fb&q=teeli\n",
      "Processing Record 418 | Kalach-na-Donu\n",
      "http://api.openweathermap.org/data/2.5/weather?units=Imperial&APPID=c61eddd25a92d387eb5ce5ac585e82fb&q=kalach-na-donu\n",
      "Processing Record 419 | Faya\n",
      "http://api.openweathermap.org/data/2.5/weather?units=Imperial&APPID=c61eddd25a92d387eb5ce5ac585e82fb&q=faya\n",
      "Processing Record 420 | Cockburn Town\n",
      "http://api.openweathermap.org/data/2.5/weather?units=Imperial&APPID=c61eddd25a92d387eb5ce5ac585e82fb&q=cockburn town\n",
      "Processing Record 421 | Mago\n",
      "http://api.openweathermap.org/data/2.5/weather?units=Imperial&APPID=c61eddd25a92d387eb5ce5ac585e82fb&q=mago\n",
      "Processing Record 422 | Ushtobe\n",
      "http://api.openweathermap.org/data/2.5/weather?units=Imperial&APPID=c61eddd25a92d387eb5ce5ac585e82fb&q=ushtobe\n",
      "City not found. Skipping...\n",
      "Processing Record 423 | Skibbereen\n",
      "http://api.openweathermap.org/data/2.5/weather?units=Imperial&APPID=c61eddd25a92d387eb5ce5ac585e82fb&q=skibbereen\n",
      "Processing Record 424 | Halifax\n",
      "http://api.openweathermap.org/data/2.5/weather?units=Imperial&APPID=c61eddd25a92d387eb5ce5ac585e82fb&q=halifax\n",
      "Processing Record 425 | Abū Zabad\n",
      "http://api.openweathermap.org/data/2.5/weather?units=Imperial&APPID=c61eddd25a92d387eb5ce5ac585e82fb&q=abu zabad\n",
      "Processing Record 426 | Bogdanovich\n",
      "http://api.openweathermap.org/data/2.5/weather?units=Imperial&APPID=c61eddd25a92d387eb5ce5ac585e82fb&q=bogdanovich\n",
      "Processing Record 427 | Am Timan\n",
      "http://api.openweathermap.org/data/2.5/weather?units=Imperial&APPID=c61eddd25a92d387eb5ce5ac585e82fb&q=am timan\n",
      "Processing Record 428 | Lüderitz\n",
      "http://api.openweathermap.org/data/2.5/weather?units=Imperial&APPID=c61eddd25a92d387eb5ce5ac585e82fb&q=luderitz\n",
      "City not found. Skipping...\n",
      "Processing Record 429 | Miramar\n",
      "http://api.openweathermap.org/data/2.5/weather?units=Imperial&APPID=c61eddd25a92d387eb5ce5ac585e82fb&q=miramar\n",
      "Processing Record 430 | Khartoum\n",
      "http://api.openweathermap.org/data/2.5/weather?units=Imperial&APPID=c61eddd25a92d387eb5ce5ac585e82fb&q=khartoum\n",
      "City not found. Skipping...\n",
      "Processing Record 431 | Bonavista\n",
      "http://api.openweathermap.org/data/2.5/weather?units=Imperial&APPID=c61eddd25a92d387eb5ce5ac585e82fb&q=bonavista\n",
      "Processing Record 432 | Bridlington\n",
      "http://api.openweathermap.org/data/2.5/weather?units=Imperial&APPID=c61eddd25a92d387eb5ce5ac585e82fb&q=bridlington\n",
      "Processing Record 433 | Akdepe\n",
      "http://api.openweathermap.org/data/2.5/weather?units=Imperial&APPID=c61eddd25a92d387eb5ce5ac585e82fb&q=akdepe\n",
      "Processing Record 434 | Haverfordwest\n",
      "http://api.openweathermap.org/data/2.5/weather?units=Imperial&APPID=c61eddd25a92d387eb5ce5ac585e82fb&q=haverfordwest\n",
      "Processing Record 435 | Chitral\n",
      "http://api.openweathermap.org/data/2.5/weather?units=Imperial&APPID=c61eddd25a92d387eb5ce5ac585e82fb&q=chitral\n",
      "Processing Record 436 | Gouré\n",
      "http://api.openweathermap.org/data/2.5/weather?units=Imperial&APPID=c61eddd25a92d387eb5ce5ac585e82fb&q=goure\n",
      "Processing Record 437 | Tommot\n",
      "http://api.openweathermap.org/data/2.5/weather?units=Imperial&APPID=c61eddd25a92d387eb5ce5ac585e82fb&q=tommot\n",
      "Processing Record 438 | Hasaki\n",
      "http://api.openweathermap.org/data/2.5/weather?units=Imperial&APPID=c61eddd25a92d387eb5ce5ac585e82fb&q=hasaki\n",
      "Processing Record 439 | Barra do Corda\n",
      "http://api.openweathermap.org/data/2.5/weather?units=Imperial&APPID=c61eddd25a92d387eb5ce5ac585e82fb&q=barra do corda\n",
      "Processing Record 440 | Gunjur\n",
      "http://api.openweathermap.org/data/2.5/weather?units=Imperial&APPID=c61eddd25a92d387eb5ce5ac585e82fb&q=gunjur\n",
      "Processing Record 441 | Velsk\n",
      "http://api.openweathermap.org/data/2.5/weather?units=Imperial&APPID=c61eddd25a92d387eb5ce5ac585e82fb&q=velsk\n",
      "Processing Record 442 | Altamira\n",
      "http://api.openweathermap.org/data/2.5/weather?units=Imperial&APPID=c61eddd25a92d387eb5ce5ac585e82fb&q=altamira\n",
      "Processing Record 443 | Katsina\n",
      "http://api.openweathermap.org/data/2.5/weather?units=Imperial&APPID=c61eddd25a92d387eb5ce5ac585e82fb&q=katsina\n",
      "Processing Record 444 | Faanui\n",
      "http://api.openweathermap.org/data/2.5/weather?units=Imperial&APPID=c61eddd25a92d387eb5ce5ac585e82fb&q=faanui\n",
      "Processing Record 445 | Vorobyevka\n",
      "http://api.openweathermap.org/data/2.5/weather?units=Imperial&APPID=c61eddd25a92d387eb5ce5ac585e82fb&q=vorobyevka\n",
      "City not found. Skipping...\n",
      "Processing Record 446 | Xingtai\n",
      "http://api.openweathermap.org/data/2.5/weather?units=Imperial&APPID=c61eddd25a92d387eb5ce5ac585e82fb&q=xingtai\n",
      "Processing Record 447 | Wattegama\n",
      "http://api.openweathermap.org/data/2.5/weather?units=Imperial&APPID=c61eddd25a92d387eb5ce5ac585e82fb&q=wattegama\n",
      "Processing Record 448 | Bowen\n",
      "http://api.openweathermap.org/data/2.5/weather?units=Imperial&APPID=c61eddd25a92d387eb5ce5ac585e82fb&q=bowen\n",
      "Processing Record 449 | Staryy Nadym\n",
      "http://api.openweathermap.org/data/2.5/weather?units=Imperial&APPID=c61eddd25a92d387eb5ce5ac585e82fb&q=staryy nadym\n",
      "City not found. Skipping...\n",
      "Processing Record 450 | Daman\n",
      "http://api.openweathermap.org/data/2.5/weather?units=Imperial&APPID=c61eddd25a92d387eb5ce5ac585e82fb&q=daman\n",
      "Processing Record 451 | Otuzco\n",
      "http://api.openweathermap.org/data/2.5/weather?units=Imperial&APPID=c61eddd25a92d387eb5ce5ac585e82fb&q=otuzco\n",
      "Processing Record 452 | Eureka\n",
      "http://api.openweathermap.org/data/2.5/weather?units=Imperial&APPID=c61eddd25a92d387eb5ce5ac585e82fb&q=eureka\n",
      "Processing Record 453 | Palenque/Temp\n",
      "http://api.openweathermap.org/data/2.5/weather?units=Imperial&APPID=c61eddd25a92d387eb5ce5ac585e82fb&q=palenque\n",
      "Processing Record 454 | Forsytheganj\n",
      "http://api.openweathermap.org/data/2.5/weather?units=Imperial&APPID=c61eddd25a92d387eb5ce5ac585e82fb&q=svetlogorsk\n",
      "Processing Record 455 | Inírida\n",
      "http://api.openweathermap.org/data/2.5/weather?units=Imperial&APPID=c61eddd25a92d387eb5ce5ac585e82fb&q=inirida\n",
      "Processing Record 456 | Otorohanga\n",
      "http://api.openweathermap.org/data/2.5/weather?units=Imperial&APPID=c61eddd25a92d387eb5ce5ac585e82fb&q=otorohanga\n",
      "City not found. Skipping...\n",
      "Processing Record 457 | Yulara\n",
      "http://api.openweathermap.org/data/2.5/weather?units=Imperial&APPID=c61eddd25a92d387eb5ce5ac585e82fb&q=yulara\n",
      "Processing Record 458 | Barra de Tecoanapa\n",
      "http://api.openweathermap.org/data/2.5/weather?units=Imperial&APPID=c61eddd25a92d387eb5ce5ac585e82fb&q=tecoanapa\n",
      "Processing Record 459 | Tegul'det\n",
      "http://api.openweathermap.org/data/2.5/weather?units=Imperial&APPID=c61eddd25a92d387eb5ce5ac585e82fb&q=teguldet\n",
      "Processing Record 460 | Benguela\n",
      "http://api.openweathermap.org/data/2.5/weather?units=Imperial&APPID=c61eddd25a92d387eb5ce5ac585e82fb&q=benguela\n",
      "Processing Record 461 | Fare\n",
      "http://api.openweathermap.org/data/2.5/weather?units=Imperial&APPID=c61eddd25a92d387eb5ce5ac585e82fb&q=fare\n",
      "Processing Record 462 | Kalmunai\n",
      "http://api.openweathermap.org/data/2.5/weather?units=Imperial&APPID=c61eddd25a92d387eb5ce5ac585e82fb&q=kalmunai\n",
      "Processing Record 463 | Beringovskiy\n",
      "http://api.openweathermap.org/data/2.5/weather?units=Imperial&APPID=c61eddd25a92d387eb5ce5ac585e82fb&q=beringovskiy\n",
      "Processing Record 464 | Kumul\n",
      "http://api.openweathermap.org/data/2.5/weather?units=Imperial&APPID=c61eddd25a92d387eb5ce5ac585e82fb&q=hami\n",
      "City not found. Skipping...\n",
      "Processing Record 465 | Enumclaw\n",
      "http://api.openweathermap.org/data/2.5/weather?units=Imperial&APPID=c61eddd25a92d387eb5ce5ac585e82fb&q=enumclaw\n",
      "City not found. Skipping...\n",
      "Processing Record 466 | Dogondoutchi\n",
      "http://api.openweathermap.org/data/2.5/weather?units=Imperial&APPID=c61eddd25a92d387eb5ce5ac585e82fb&q=dogondoutchi\n",
      "Processing Record 467 | Makakilo City\n",
      "http://api.openweathermap.org/data/2.5/weather?units=Imperial&APPID=c61eddd25a92d387eb5ce5ac585e82fb&q=makakilo city\n",
      "City not found. Skipping...\n",
      "Processing Record 468 | Bubaque\n",
      "http://api.openweathermap.org/data/2.5/weather?units=Imperial&APPID=c61eddd25a92d387eb5ce5ac585e82fb&q=bubaque\n",
      "Processing Record 469 | Hammerfest\n",
      "http://api.openweathermap.org/data/2.5/weather?units=Imperial&APPID=c61eddd25a92d387eb5ce5ac585e82fb&q=hammerfest\n",
      "Processing Record 470 | Lebanon\n",
      "http://api.openweathermap.org/data/2.5/weather?units=Imperial&APPID=c61eddd25a92d387eb5ce5ac585e82fb&q=lebanon\n",
      "Processing Record 471 | Palana\n",
      "http://api.openweathermap.org/data/2.5/weather?units=Imperial&APPID=c61eddd25a92d387eb5ce5ac585e82fb&q=palana\n",
      "Processing Record 472 | Ozernovskiy\n",
      "http://api.openweathermap.org/data/2.5/weather?units=Imperial&APPID=c61eddd25a92d387eb5ce5ac585e82fb&q=ozernovskiy\n",
      "City not found. Skipping...\n",
      "Processing Record 473 | Boyolangu\n",
      "http://api.openweathermap.org/data/2.5/weather?units=Imperial&APPID=c61eddd25a92d387eb5ce5ac585e82fb&q=boyolangu\n",
      "Processing Record 474 | Busca\n",
      "http://api.openweathermap.org/data/2.5/weather?units=Imperial&APPID=c61eddd25a92d387eb5ce5ac585e82fb&q=busca\n",
      "Processing Record 475 | Noumea\n",
      "http://api.openweathermap.org/data/2.5/weather?units=Imperial&APPID=c61eddd25a92d387eb5ce5ac585e82fb&q=noumea\n",
      "Processing Record 476 | Puerto Carreño\n",
      "http://api.openweathermap.org/data/2.5/weather?units=Imperial&APPID=c61eddd25a92d387eb5ce5ac585e82fb&q=puerto carreno\n",
      "City not found. Skipping...\n",
      "Processing Record 477 | Fairview\n",
      "http://api.openweathermap.org/data/2.5/weather?units=Imperial&APPID=c61eddd25a92d387eb5ce5ac585e82fb&q=fairview\n",
      "Processing Record 478 | Macaé\n",
      "http://api.openweathermap.org/data/2.5/weather?units=Imperial&APPID=c61eddd25a92d387eb5ce5ac585e82fb&q=macae\n",
      "Processing Record 479 | Roebourne\n",
      "http://api.openweathermap.org/data/2.5/weather?units=Imperial&APPID=c61eddd25a92d387eb5ce5ac585e82fb&q=roebourne\n",
      "Processing Record 480 | Belmonte\n",
      "http://api.openweathermap.org/data/2.5/weather?units=Imperial&APPID=c61eddd25a92d387eb5ce5ac585e82fb&q=belmonte\n",
      "Processing Record 481 | Marondera\n",
      "http://api.openweathermap.org/data/2.5/weather?units=Imperial&APPID=c61eddd25a92d387eb5ce5ac585e82fb&q=marondera\n",
      "Processing Record 482 | San Rafael\n",
      "http://api.openweathermap.org/data/2.5/weather?units=Imperial&APPID=c61eddd25a92d387eb5ce5ac585e82fb&q=san rafael\n",
      "Processing Record 483 | Emerald\n",
      "http://api.openweathermap.org/data/2.5/weather?units=Imperial&APPID=c61eddd25a92d387eb5ce5ac585e82fb&q=emerald\n",
      "Processing Record 484 | Bondo\n",
      "http://api.openweathermap.org/data/2.5/weather?units=Imperial&APPID=c61eddd25a92d387eb5ce5ac585e82fb&q=bondo\n",
      "Processing Record 485 | Nevel'\n",
      "http://api.openweathermap.org/data/2.5/weather?units=Imperial&APPID=c61eddd25a92d387eb5ce5ac585e82fb&q=nevel\n",
      "Processing Record 486 | Avera\n",
      "http://api.openweathermap.org/data/2.5/weather?units=Imperial&APPID=c61eddd25a92d387eb5ce5ac585e82fb&q=avera\n",
      "Processing Record 487 | Zhezkazgan\n",
      "http://api.openweathermap.org/data/2.5/weather?units=Imperial&APPID=c61eddd25a92d387eb5ce5ac585e82fb&q=zhezkazgan\n",
      "Processing Record 488 | Rio Grande\n",
      "http://api.openweathermap.org/data/2.5/weather?units=Imperial&APPID=c61eddd25a92d387eb5ce5ac585e82fb&q=rio grande\n",
      "Processing Record 489 | Zapolyarnyy\n",
      "http://api.openweathermap.org/data/2.5/weather?units=Imperial&APPID=c61eddd25a92d387eb5ce5ac585e82fb&q=zapolyarnyy\n",
      "Processing Record 490 | Barcelos\n",
      "http://api.openweathermap.org/data/2.5/weather?units=Imperial&APPID=c61eddd25a92d387eb5ce5ac585e82fb&q=barcelos\n",
      "Processing Record 491 | Sinnamary\n",
      "http://api.openweathermap.org/data/2.5/weather?units=Imperial&APPID=c61eddd25a92d387eb5ce5ac585e82fb&q=sinnamary\n",
      "Processing Record 492 | Novokayakent\n",
      "http://api.openweathermap.org/data/2.5/weather?units=Imperial&APPID=c61eddd25a92d387eb5ce5ac585e82fb&q=novokayakent\n",
      "Processing Record 493 | Santa Rosalía\n",
      "http://api.openweathermap.org/data/2.5/weather?units=Imperial&APPID=c61eddd25a92d387eb5ce5ac585e82fb&q=santa rosalia\n",
      "Processing Record 494 | Coxim\n",
      "http://api.openweathermap.org/data/2.5/weather?units=Imperial&APPID=c61eddd25a92d387eb5ce5ac585e82fb&q=coxim\n",
      "Processing Record 495 | Achit\n",
      "http://api.openweathermap.org/data/2.5/weather?units=Imperial&APPID=c61eddd25a92d387eb5ce5ac585e82fb&q=achit\n",
      "Processing Record 496 | Paranaíba\n",
      "http://api.openweathermap.org/data/2.5/weather?units=Imperial&APPID=c61eddd25a92d387eb5ce5ac585e82fb&q=paranaiba\n",
      "Processing Record 497 | Krasne\n",
      "http://api.openweathermap.org/data/2.5/weather?units=Imperial&APPID=c61eddd25a92d387eb5ce5ac585e82fb&q=krasnoye\n",
      "Processing Record 498 | Caucayá\n",
      "http://api.openweathermap.org/data/2.5/weather?units=Imperial&APPID=c61eddd25a92d387eb5ce5ac585e82fb&q=puerto leguizamo\n",
      "Processing Record 499 | Havre-St-Pierre\n",
      "http://api.openweathermap.org/data/2.5/weather?units=Imperial&APPID=c61eddd25a92d387eb5ce5ac585e82fb&q=havre-saint-pierre\n",
      "Processing Record 500 | ‘Āhuimanu\n",
      "http://api.openweathermap.org/data/2.5/weather?units=Imperial&APPID=c61eddd25a92d387eb5ce5ac585e82fb&q=ahuimanu\n",
      "Processing Record 501 | Hobyo\n",
      "http://api.openweathermap.org/data/2.5/weather?units=Imperial&APPID=c61eddd25a92d387eb5ce5ac585e82fb&q=hobyo\n",
      "Processing Record 502 | Chumikan\n",
      "http://api.openweathermap.org/data/2.5/weather?units=Imperial&APPID=c61eddd25a92d387eb5ce5ac585e82fb&q=chumikan\n",
      "Processing Record 503 | Ambovombe\n",
      "http://api.openweathermap.org/data/2.5/weather?units=Imperial&APPID=c61eddd25a92d387eb5ce5ac585e82fb&q=ambovombe\n",
      "Processing Record 504 | Esil\n",
      "http://api.openweathermap.org/data/2.5/weather?units=Imperial&APPID=c61eddd25a92d387eb5ce5ac585e82fb&q=esil\n",
      "Processing Record 505 | Eyl\n",
      "http://api.openweathermap.org/data/2.5/weather?units=Imperial&APPID=c61eddd25a92d387eb5ce5ac585e82fb&q=eyl\n",
      "Processing Record 506 | Ilebo\n",
      "http://api.openweathermap.org/data/2.5/weather?units=Imperial&APPID=c61eddd25a92d387eb5ce5ac585e82fb&q=ilebo\n",
      "Processing Record 507 | Umba\n",
      "http://api.openweathermap.org/data/2.5/weather?units=Imperial&APPID=c61eddd25a92d387eb5ce5ac585e82fb&q=umba\n",
      "Processing Record 508 | Atambua\n",
      "http://api.openweathermap.org/data/2.5/weather?units=Imperial&APPID=c61eddd25a92d387eb5ce5ac585e82fb&q=atambua\n",
      "Processing Record 509 | Brae\n",
      "http://api.openweathermap.org/data/2.5/weather?units=Imperial&APPID=c61eddd25a92d387eb5ce5ac585e82fb&q=brae\n",
      "Processing Record 510 | Kadrina\n",
      "http://api.openweathermap.org/data/2.5/weather?units=Imperial&APPID=c61eddd25a92d387eb5ce5ac585e82fb&q=kadrina\n",
      "Processing Record 511 | Bilma\n",
      "http://api.openweathermap.org/data/2.5/weather?units=Imperial&APPID=c61eddd25a92d387eb5ce5ac585e82fb&q=bilma\n",
      "Processing Record 512 | Puerto Madryn\n",
      "http://api.openweathermap.org/data/2.5/weather?units=Imperial&APPID=c61eddd25a92d387eb5ce5ac585e82fb&q=puerto madryn\n",
      "Processing Record 513 | Gogrial\n",
      "http://api.openweathermap.org/data/2.5/weather?units=Imperial&APPID=c61eddd25a92d387eb5ce5ac585e82fb&q=gogrial\n",
      "Processing Record 514 | Kousséri\n",
      "http://api.openweathermap.org/data/2.5/weather?units=Imperial&APPID=c61eddd25a92d387eb5ce5ac585e82fb&q=kousseri\n",
      "Processing Record 515 | Lafiagi\n",
      "http://api.openweathermap.org/data/2.5/weather?units=Imperial&APPID=c61eddd25a92d387eb5ce5ac585e82fb&q=lafiagi\n",
      "Processing Record 516 | Idukki\n",
      "http://api.openweathermap.org/data/2.5/weather?units=Imperial&APPID=c61eddd25a92d387eb5ce5ac585e82fb&q=idukki\n",
      "Processing Record 517 | Kathu\n",
      "http://api.openweathermap.org/data/2.5/weather?units=Imperial&APPID=c61eddd25a92d387eb5ce5ac585e82fb&q=kathu\n",
      "City not found. Skipping...\n",
      "Processing Record 518 | Chelno-Vershiny\n",
      "http://api.openweathermap.org/data/2.5/weather?units=Imperial&APPID=c61eddd25a92d387eb5ce5ac585e82fb&q=chelno-vershiny\n",
      "Processing Record 519 | Sola\n",
      "http://api.openweathermap.org/data/2.5/weather?units=Imperial&APPID=c61eddd25a92d387eb5ce5ac585e82fb&q=sola\n",
      "Processing Record 520 | Srandakan\n",
      "http://api.openweathermap.org/data/2.5/weather?units=Imperial&APPID=c61eddd25a92d387eb5ce5ac585e82fb&q=srandakan\n",
      "Processing Record 521 | Kununurra\n",
      "http://api.openweathermap.org/data/2.5/weather?units=Imperial&APPID=c61eddd25a92d387eb5ce5ac585e82fb&q=kununurra\n",
      "Processing Record 522 | Magalia\n",
      "http://api.openweathermap.org/data/2.5/weather?units=Imperial&APPID=c61eddd25a92d387eb5ce5ac585e82fb&q=magalia\n",
      "City not found. Skipping...\n",
      "Processing Record 523 | Sittwe\n",
      "http://api.openweathermap.org/data/2.5/weather?units=Imperial&APPID=c61eddd25a92d387eb5ce5ac585e82fb&q=akyab\n",
      "Processing Record 524 | Yarkovo\n",
      "http://api.openweathermap.org/data/2.5/weather?units=Imperial&APPID=c61eddd25a92d387eb5ce5ac585e82fb&q=yarkovo\n",
      "Processing Record 525 | Jiuquan\n",
      "http://api.openweathermap.org/data/2.5/weather?units=Imperial&APPID=c61eddd25a92d387eb5ce5ac585e82fb&q=jiuquan\n",
      "Processing Record 526 | Izumo\n",
      "http://api.openweathermap.org/data/2.5/weather?units=Imperial&APPID=c61eddd25a92d387eb5ce5ac585e82fb&q=izumo\n",
      "Processing Record 527 | Yendi\n",
      "http://api.openweathermap.org/data/2.5/weather?units=Imperial&APPID=c61eddd25a92d387eb5ce5ac585e82fb&q=yendi\n",
      "Processing Record 528 | Atlantic City\n",
      "http://api.openweathermap.org/data/2.5/weather?units=Imperial&APPID=c61eddd25a92d387eb5ce5ac585e82fb&q=atlantic city\n",
      "Processing Record 529 | Jalu\n",
      "http://api.openweathermap.org/data/2.5/weather?units=Imperial&APPID=c61eddd25a92d387eb5ce5ac585e82fb&q=jalu\n",
      "Processing Record 530 | Shirokiy\n",
      "http://api.openweathermap.org/data/2.5/weather?units=Imperial&APPID=c61eddd25a92d387eb5ce5ac585e82fb&q=shirokiy\n",
      "Processing Record 531 | Châteauroux\n",
      "http://api.openweathermap.org/data/2.5/weather?units=Imperial&APPID=c61eddd25a92d387eb5ce5ac585e82fb&q=chateauroux\n",
      "Processing Record 532 | Trincomalee\n",
      "http://api.openweathermap.org/data/2.5/weather?units=Imperial&APPID=c61eddd25a92d387eb5ce5ac585e82fb&q=trincomalee\n",
      "Processing Record 533 | Kaseda-shirakame\n",
      "http://api.openweathermap.org/data/2.5/weather?units=Imperial&APPID=c61eddd25a92d387eb5ce5ac585e82fb&q=kaseda\n",
      "Processing Record 534 | Diego de Almagro\n",
      "http://api.openweathermap.org/data/2.5/weather?units=Imperial&APPID=c61eddd25a92d387eb5ce5ac585e82fb&q=diego de almagro\n",
      "Processing Record 535 | Basco\n",
      "http://api.openweathermap.org/data/2.5/weather?units=Imperial&APPID=c61eddd25a92d387eb5ce5ac585e82fb&q=basco\n",
      "Processing Record 536 | Harper\n",
      "http://api.openweathermap.org/data/2.5/weather?units=Imperial&APPID=c61eddd25a92d387eb5ce5ac585e82fb&q=harper\n",
      "Processing Record 537 | Pastavy\n",
      "http://api.openweathermap.org/data/2.5/weather?units=Imperial&APPID=c61eddd25a92d387eb5ce5ac585e82fb&q=pastavy\n",
      "Processing Record 538 | Barabai\n",
      "http://api.openweathermap.org/data/2.5/weather?units=Imperial&APPID=c61eddd25a92d387eb5ce5ac585e82fb&q=barabai\n",
      "Processing Record 539 | Vostok\n",
      "http://api.openweathermap.org/data/2.5/weather?units=Imperial&APPID=c61eddd25a92d387eb5ce5ac585e82fb&q=vostok\n",
      "Processing Record 540 | Guía de Isora\n",
      "http://api.openweathermap.org/data/2.5/weather?units=Imperial&APPID=c61eddd25a92d387eb5ce5ac585e82fb&q=guia de isora\n",
      "Processing Record 541 | Port Lincoln\n",
      "http://api.openweathermap.org/data/2.5/weather?units=Imperial&APPID=c61eddd25a92d387eb5ce5ac585e82fb&q=port lincoln\n",
      "Processing Record 542 | Mountain Home\n",
      "http://api.openweathermap.org/data/2.5/weather?units=Imperial&APPID=c61eddd25a92d387eb5ce5ac585e82fb&q=mountain home\n",
      "Processing Record 543 | Kanchanaburi\n",
      "http://api.openweathermap.org/data/2.5/weather?units=Imperial&APPID=c61eddd25a92d387eb5ce5ac585e82fb&q=kanchanaburi\n",
      "Processing Record 544 | Nālūt\n",
      "http://api.openweathermap.org/data/2.5/weather?units=Imperial&APPID=c61eddd25a92d387eb5ce5ac585e82fb&q=nalut\n",
      "Processing Record 545 | Şabrātah\n",
      "http://api.openweathermap.org/data/2.5/weather?units=Imperial&APPID=c61eddd25a92d387eb5ce5ac585e82fb&q=sabratah\n",
      "Processing Record 546 | Birjand\n",
      "http://api.openweathermap.org/data/2.5/weather?units=Imperial&APPID=c61eddd25a92d387eb5ce5ac585e82fb&q=birjand\n",
      "Processing Record 547 | Quatre Cocos\n",
      "http://api.openweathermap.org/data/2.5/weather?units=Imperial&APPID=c61eddd25a92d387eb5ce5ac585e82fb&q=quatre cocos\n",
      "Processing Record 548 | Gravelbourg\n",
      "http://api.openweathermap.org/data/2.5/weather?units=Imperial&APPID=c61eddd25a92d387eb5ce5ac585e82fb&q=gravelbourg\n",
      "Processing Record 549 | Bokoro\n",
      "http://api.openweathermap.org/data/2.5/weather?units=Imperial&APPID=c61eddd25a92d387eb5ce5ac585e82fb&q=bokoro\n",
      "Processing Record 550 | Marystown\n",
      "http://api.openweathermap.org/data/2.5/weather?units=Imperial&APPID=c61eddd25a92d387eb5ce5ac585e82fb&q=marystown\n",
      "Processing Record 551 | Kostomuksha\n",
      "http://api.openweathermap.org/data/2.5/weather?units=Imperial&APPID=c61eddd25a92d387eb5ce5ac585e82fb&q=kostomuksha\n",
      "Processing Record 552 | Salisbury\n",
      "http://api.openweathermap.org/data/2.5/weather?units=Imperial&APPID=c61eddd25a92d387eb5ce5ac585e82fb&q=salisbury\n",
      "Processing Record 553 | Kudahuvadhoo\n",
      "http://api.openweathermap.org/data/2.5/weather?units=Imperial&APPID=c61eddd25a92d387eb5ce5ac585e82fb&q=kudahuvadhoo\n",
      "Processing Record 554 | Praia\n",
      "http://api.openweathermap.org/data/2.5/weather?units=Imperial&APPID=c61eddd25a92d387eb5ce5ac585e82fb&q=praya\n",
      "Processing Record 555 | Sechura\n",
      "http://api.openweathermap.org/data/2.5/weather?units=Imperial&APPID=c61eddd25a92d387eb5ce5ac585e82fb&q=sechura\n",
      "City not found. Skipping...\n"
     ]
    }
   ],
   "source": [
    "# Create empty lists to append the API data into lists \n",
    "city_name = []\n",
    "cloudiness = []\n",
    "country = []\n",
    "date = []\n",
    "humidity = []\n",
    "lat = []\n",
    "lng = []\n",
    "max_temp = []\n",
    "wind_speed = []\n",
    "\n",
    "# Start the call counter \n",
    "record = 1\n",
    "\n",
    "# Log file print statement\n",
    "print(f\"Beginning Data Retrieval\")\n",
    "print(f\"--------------------------------------------------------------\")\n",
    "\n",
    "#Loop through the cities in the city list \n",
    "for city in cities:  \n",
    "    \n",
    "    # Try statement to append calls where value is found \n",
    "    # Not all calls return data as OpenWeatherMap will not have have records in all the cities generated by CityPy module\n",
    "    try: \n",
    "        response = requests.get(f\"{url}&q={city}\").json() \n",
    "        city_name.append(response[\"name\"])\n",
    "        cloudiness.append(response[\"clouds\"][\"all\"])\n",
    "        country.append(response[\"sys\"][\"country\"])\n",
    "        date.append(response[\"dt\"])\n",
    "        humidity.append(response[\"main\"][\"humidity\"])\n",
    "        max_temp.append(response[\"main\"][\"temp_max\"])\n",
    "        lat.append(response[\"coord\"][\"lat\"])\n",
    "        lng.append(response[\"coord\"][\"lon\"])\n",
    "        wind_speed.append(response[\"wind\"][\"speed\"])\n",
    "        city_record = response[\"name\"]\n",
    "        print(f\"Processing Record {record} | {city_record}\")\n",
    "        print(f\"{url}&q={city}\")\n",
    "          # Increase counter by one \n",
    "        record= record + 1\n",
    "        \n",
    "        # Wait a second in loop to not over exceed rate limit of API\n",
    "        time.sleep(1.01)\n",
    "        \n",
    "    # If no record found \"skip\" to next call\n",
    "    except:\n",
    "        print(\"City not found. Skipping...\")\n",
    "    continue"
   ]
  },
  {
   "cell_type": "markdown",
   "metadata": {},
   "source": [
    "### Convert Raw Data to DataFrame\n",
    "* Export the city data into a .csv.\n",
    "* Display the DataFrame"
   ]
  },
  {
   "cell_type": "code",
   "execution_count": 5,
   "metadata": {},
   "outputs": [
    {
     "data": {
      "text/plain": [
       "City          555\n",
       "Cloudiness    555\n",
       "Country       555\n",
       "Date          555\n",
       "Humidity      555\n",
       "Lat           555\n",
       "Lng           555\n",
       "Max Temp      555\n",
       "Wind Speed    555\n",
       "dtype: int64"
      ]
     },
     "execution_count": 5,
     "metadata": {},
     "output_type": "execute_result"
    }
   ],
   "source": [
    "# dict with the lists generated\n",
    "weatherpy_dict = {\n",
    "    \"City\": city_name,\n",
    "    \"Cloudiness\":cloudiness, \n",
    "    \"Country\":country,\n",
    "    \"Date\":date, \n",
    "    \"Humidity\": humidity,\n",
    "    \"Lat\":lat, \n",
    "    \"Lng\":lng, \n",
    "    \"Max Temp\": max_temp,\n",
    "    \"Wind Speed\":wind_speed\n",
    "}\n",
    "\n",
    "# DF from dict\n",
    "weather_data = pd.DataFrame(weatherpy_dict)\n",
    "\n",
    "# Display count of weather data values \n",
    "weather_data.count()"
   ]
  },
  {
   "cell_type": "code",
   "execution_count": 6,
   "metadata": {},
   "outputs": [
    {
     "data": {
      "text/html": [
       "<div>\n",
       "<style scoped>\n",
       "    .dataframe tbody tr th:only-of-type {\n",
       "        vertical-align: middle;\n",
       "    }\n",
       "\n",
       "    .dataframe tbody tr th {\n",
       "        vertical-align: top;\n",
       "    }\n",
       "\n",
       "    .dataframe thead th {\n",
       "        text-align: right;\n",
       "    }\n",
       "</style>\n",
       "<table border=\"1\" class=\"dataframe\">\n",
       "  <thead>\n",
       "    <tr style=\"text-align: right;\">\n",
       "      <th></th>\n",
       "      <th>City</th>\n",
       "      <th>Cloudiness</th>\n",
       "      <th>Country</th>\n",
       "      <th>Date</th>\n",
       "      <th>Humidity</th>\n",
       "      <th>Lat</th>\n",
       "      <th>Lng</th>\n",
       "      <th>Max Temp</th>\n",
       "      <th>Wind Speed</th>\n",
       "    </tr>\n",
       "  </thead>\n",
       "  <tbody>\n",
       "    <tr>\n",
       "      <th>0</th>\n",
       "      <td>Norman Wells</td>\n",
       "      <td>75</td>\n",
       "      <td>CA</td>\n",
       "      <td>1619289776</td>\n",
       "      <td>47</td>\n",
       "      <td>65.2820</td>\n",
       "      <td>-126.8329</td>\n",
       "      <td>33.80</td>\n",
       "      <td>5.75</td>\n",
       "    </tr>\n",
       "    <tr>\n",
       "      <th>1</th>\n",
       "      <td>Najrān</td>\n",
       "      <td>75</td>\n",
       "      <td>SA</td>\n",
       "      <td>1619289777</td>\n",
       "      <td>16</td>\n",
       "      <td>17.4924</td>\n",
       "      <td>44.1277</td>\n",
       "      <td>86.00</td>\n",
       "      <td>11.50</td>\n",
       "    </tr>\n",
       "    <tr>\n",
       "      <th>2</th>\n",
       "      <td>Diu</td>\n",
       "      <td>100</td>\n",
       "      <td>IN</td>\n",
       "      <td>1619289779</td>\n",
       "      <td>71</td>\n",
       "      <td>20.7141</td>\n",
       "      <td>70.9822</td>\n",
       "      <td>81.30</td>\n",
       "      <td>13.06</td>\n",
       "    </tr>\n",
       "    <tr>\n",
       "      <th>3</th>\n",
       "      <td>Qaanaaq</td>\n",
       "      <td>93</td>\n",
       "      <td>GL</td>\n",
       "      <td>1619289780</td>\n",
       "      <td>69</td>\n",
       "      <td>77.4840</td>\n",
       "      <td>-69.3632</td>\n",
       "      <td>27.73</td>\n",
       "      <td>6.49</td>\n",
       "    </tr>\n",
       "    <tr>\n",
       "      <th>4</th>\n",
       "      <td>Talnakh</td>\n",
       "      <td>100</td>\n",
       "      <td>RU</td>\n",
       "      <td>1619289781</td>\n",
       "      <td>97</td>\n",
       "      <td>69.4865</td>\n",
       "      <td>88.3972</td>\n",
       "      <td>30.42</td>\n",
       "      <td>13.71</td>\n",
       "    </tr>\n",
       "  </tbody>\n",
       "</table>\n",
       "</div>"
      ],
      "text/plain": [
       "           City  Cloudiness Country        Date  Humidity      Lat       Lng  \\\n",
       "0  Norman Wells          75      CA  1619289776        47  65.2820 -126.8329   \n",
       "1        Najrān          75      SA  1619289777        16  17.4924   44.1277   \n",
       "2           Diu         100      IN  1619289779        71  20.7141   70.9822   \n",
       "3       Qaanaaq          93      GL  1619289780        69  77.4840  -69.3632   \n",
       "4       Talnakh         100      RU  1619289781        97  69.4865   88.3972   \n",
       "\n",
       "   Max Temp  Wind Speed  \n",
       "0     33.80        5.75  \n",
       "1     86.00       11.50  \n",
       "2     81.30       13.06  \n",
       "3     27.73        6.49  \n",
       "4     30.42       13.71  "
      ]
     },
     "execution_count": 6,
     "metadata": {},
     "output_type": "execute_result"
    }
   ],
   "source": [
    "# export data to csv\n",
    "\n",
    "# Save data frame to CSV\n",
    "weather_data.to_csv('Output_csv/weather_data.csv')\n",
    "\n",
    "# Display data frame head \n",
    "weather_data.head()"
   ]
  },
  {
   "cell_type": "code",
   "execution_count": null,
   "metadata": {},
   "outputs": [],
   "source": []
  },
  {
   "cell_type": "markdown",
   "metadata": {},
   "source": [
    "## Inspect the data and remove the cities where the humidity > 100%.\n",
    "----\n",
    "Skip this step if there are no cities that have humidity > 100%. "
   ]
  },
  {
   "cell_type": "code",
   "execution_count": null,
   "metadata": {},
   "outputs": [],
   "source": []
  },
  {
   "cell_type": "code",
   "execution_count": 7,
   "metadata": {},
   "outputs": [],
   "source": [
    "#  Get the indices of cities that have humidity over 100%.\n"
   ]
  },
  {
   "cell_type": "code",
   "execution_count": 8,
   "metadata": {},
   "outputs": [],
   "source": [
    "# Make a new DataFrame equal to the city data to drop all humidity outliers by index.\n",
    "# Passing \"inplace=False\" will make a copy of the city_data DataFrame, which we call \"clean_city_data\".\n"
   ]
  },
  {
   "cell_type": "code",
   "execution_count": null,
   "metadata": {},
   "outputs": [],
   "source": [
    "\n"
   ]
  },
  {
   "cell_type": "markdown",
   "metadata": {},
   "source": [
    "## Plotting the Data\n",
    "* Use proper labeling of the plots using plot titles (including date of analysis) and axes labels.\n",
    "* Save the plotted figures as .pngs."
   ]
  },
  {
   "cell_type": "markdown",
   "metadata": {},
   "source": [
    "## Latitude vs. Temperature Plot"
   ]
  },
  {
   "cell_type": "code",
   "execution_count": 9,
   "metadata": {
    "scrolled": true
   },
   "outputs": [
    {
     "data": {
      "image/png": "[encoded data removed]",
      "text/plain": [
       "<Figure size 432x288 with 1 Axes>"
      ]
     },
     "metadata": {
      "needs_background": "light"
     },
     "output_type": "display_data"
    }
   ],
   "source": [
    "# Build a scatter plot for each data type\n",
    "plt.scatter(weather_data[\"Lat\"], weather_data[\"Max Temp\"], marker=\"o\", s=10)\n",
    "\n",
    "# Incorporate the other graph properties\n",
    "plt.title(\"City Latitude vs. Max Temperature\")\n",
    "plt.ylabel(\"Max. Temperature (F)\")\n",
    "plt.xlabel(\"Latitude\")\n",
    "plt.grid(True)\n",
    "\n",
    "# Save the figure\n",
    "plt.savefig(\"Output_Plots/Max_Temp_vs_Latitude.png\")\n",
    "\n",
    "# Show plot\n",
    "plt.show()\n"
   ]
  },
  {
   "cell_type": "markdown",
   "metadata": {},
   "source": [
    "## Latitude vs. Humidity Plot"
   ]
  },
  {
   "cell_type": "code",
   "execution_count": 10,
   "metadata": {},
   "outputs": [
    {
     "data": {
      "image/png": "[encoded data removed]",
      "text/plain": [
       "<Figure size 432x288 with 1 Axes>"
      ]
     },
     "metadata": {
      "needs_background": "light"
     },
     "output_type": "display_data"
    }
   ],
   "source": [
    "# Build a scatter plot for each data type\n",
    "plt.scatter(weather_data[\"Lat\"], weather_data[\"Humidity\"], marker=\"o\", s=10)\n",
    "\n",
    "# Incorporate the other graph properties\n",
    "plt.title(\"City Latitude vs. Humidity\")\n",
    "plt.ylabel(\"Humidity (%)\")\n",
    "plt.xlabel(\"Latitude\")\n",
    "plt.grid(True)\n",
    "\n",
    "# Save the figure\n",
    "plt.savefig(\"Output_Plots/Humidity_vs_Latitude.png\")\n",
    "\n",
    "# Show plot\n",
    "plt.show()"
   ]
  },
  {
   "cell_type": "markdown",
   "metadata": {},
   "source": [
    "## Latitude vs. Cloudiness Plot"
   ]
  },
  {
   "cell_type": "code",
   "execution_count": 11,
   "metadata": {},
   "outputs": [
    {
     "data": {
      "image/png": "[encoded data removed]",
      "text/plain": [
       "<Figure size 432x288 with 1 Axes>"
      ]
     },
     "metadata": {
      "needs_background": "light"
     },
     "output_type": "display_data"
    }
   ],
   "source": [
    "\n",
    "# Build a scatter plot for each data type\n",
    "plt.scatter(weather_data[\"Lat\"], weather_data[\"Cloudiness\"], marker=\"o\", s=10)\n",
    "\n",
    "# Incorporate the other graph properties\n",
    "plt.title(\"City Latitude vs. Cloudiness\")\n",
    "plt.ylabel(\"Cloudiness (%)\")\n",
    "plt.xlabel(\"Latitude\")\n",
    "plt.grid(True)\n",
    "\n",
    "# Save the figure\n",
    "plt.savefig(\"Output_Plots/Cloudiness_vs_Latitude.png\")\n",
    "\n",
    "# Show plot\n",
    "plt.show()\n"
   ]
  },
  {
   "cell_type": "markdown",
   "metadata": {},
   "source": [
    "## Latitude vs. Wind Speed Plot"
   ]
  },
  {
   "cell_type": "code",
   "execution_count": 12,
   "metadata": {},
   "outputs": [
    {
     "data": {
      "image/png": "[encoded data removed]",
      "text/plain": [
       "<Figure size 432x288 with 1 Axes>"
      ]
     },
     "metadata": {
      "needs_background": "light"
     },
     "output_type": "display_data"
    }
   ],
   "source": [
    "# Build a scatter plot for each data type\n",
    "plt.scatter(weather_data[\"Lat\"], weather_data[\"Wind Speed\"], marker=\"o\", s=10)\n",
    "\n",
    "# Incorporate the other graph properties\n",
    "plt.title(\"City Latitude vs. Wind Speed\")\n",
    "plt.ylabel(\"Wind Speed (mph)\")\n",
    "plt.xlabel(\"Latitude\")\n",
    "plt.grid(True)\n",
    "\n",
    "# Save the figure\n",
    "plt.savefig(\"Output_Plots/Wind_Speed_vs_Latitude.png\")\n",
    "\n",
    "# Show plot\n",
    "plt.show()"
   ]
  },
  {
   "cell_type": "markdown",
   "metadata": {},
   "source": [
    "## Linear Regression"
   ]
  },
  {
   "cell_type": "code",
   "execution_count": null,
   "metadata": {},
   "outputs": [],
   "source": []
  },
  {
   "cell_type": "markdown",
   "metadata": {},
   "source": [
    "####  Northern Hemisphere - Max Temp vs. Latitude Linear Regression"
   ]
  },
  {
   "cell_type": "code",
   "execution_count": 13,
   "metadata": {},
   "outputs": [
    {
     "data": {
      "image/png": "[encoded data removed]",
      "text/plain": [
       "<Figure size 432x288 with 1 Axes>"
      ]
     },
     "metadata": {
      "needs_background": "light"
     },
     "output_type": "display_data"
    }
   ],
   "source": [
    "# Build a scatter plot for each data type\n",
    "plt.scatter(weather_data[\"Lat\"], weather_data[\"Max Temp\"], marker=\"o\", s=10)\n",
    "\n",
    "# Incorporate the other graph properties\n",
    "plt.title(\"City Latitude vs. Max Temperature\")\n",
    "plt.ylabel(\"Max. Temperature (F)\")\n",
    "plt.xlabel(\"Latitude\")\n",
    "plt.grid(True)\n",
    "\n",
    "# Save the figure\n",
    "plt.savefig(\"Output_Plots/Max_Temp_vs_Latitude.png\")\n",
    "\n",
    "# Show plot\n",
    "plt.show()"
   ]
  },
  {
   "cell_type": "markdown",
   "metadata": {},
   "source": [
    "####  Southern Hemisphere - Max Temp vs. Latitude Linear Regression"
   ]
  },
  {
   "cell_type": "code",
   "execution_count": 14,
   "metadata": {},
   "outputs": [],
   "source": [
    "north_hemi_df = weather_data.loc[(weather_data['Lat']>0)]\n",
    "south_hemi_df = weather_data.loc[(weather_data['Lat'] < 0)]"
   ]
  },
  {
   "cell_type": "code",
   "execution_count": 15,
   "metadata": {},
   "outputs": [
    {
     "data": {
      "text/plain": [
       "City          381\n",
       "Cloudiness    381\n",
       "Country       381\n",
       "Date          381\n",
       "Humidity      381\n",
       "Lat           381\n",
       "Lng           381\n",
       "Max Temp      381\n",
       "Wind Speed    381\n",
       "dtype: int64"
      ]
     },
     "execution_count": 15,
     "metadata": {},
     "output_type": "execute_result"
    }
   ],
   "source": [
    "north_hemi_df.count()"
   ]
  },
  {
   "cell_type": "code",
   "execution_count": 16,
   "metadata": {},
   "outputs": [
    {
     "data": {
      "text/plain": [
       "City          174\n",
       "Cloudiness    174\n",
       "Country       174\n",
       "Date          174\n",
       "Humidity      174\n",
       "Lat           174\n",
       "Lng           174\n",
       "Max Temp      174\n",
       "Wind Speed    174\n",
       "dtype: int64"
      ]
     },
     "execution_count": 16,
     "metadata": {},
     "output_type": "execute_result"
    }
   ],
   "source": [
    "south_hemi_df.count()"
   ]
  },
  {
   "cell_type": "code",
   "execution_count": null,
   "metadata": {},
   "outputs": [],
   "source": []
  },
  {
   "cell_type": "code",
   "execution_count": 17,
   "metadata": {},
   "outputs": [
    {
     "name": "stdout",
     "output_type": "stream",
     "text": [
      "r-squared: 0.7446990613126454\n"
     ]
    },
    {
     "data": {
      "image/png": "[encoded data removed]",
      "text/plain": [
       "<Figure size 432x288 with 1 Axes>"
      ]
     },
     "metadata": {
      "needs_background": "light"
     },
     "output_type": "display_data"
    },
    {
     "data": {
      "text/plain": [
       "<Figure size 432x288 with 0 Axes>"
      ]
     },
     "metadata": {},
     "output_type": "display_data"
    }
   ],
   "source": [
    "#define the function to call for each analysis/parameter\n",
    "def line_regr(x, y,yaxis):\n",
    "    \n",
    "    (slope, intercept, rvalue, pvalue, stderr) = linregress(x, y)\n",
    "    y_pred = intercept + slope*x\n",
    "    line_eq = \"y = \" + str(round(slope,2)) + \"x + \" + str(round(intercept,2))\n",
    "\n",
    "    # Plot\n",
    "    plt.scatter(x,y)\n",
    "    plt.plot(x,y_pred,\"r-\")\n",
    "    plt.xlabel('Latitude')\n",
    "    plt.ylabel(yaxis)\n",
    "    print(f\"r-squared: {rvalue}\")\n",
    "    plt.show()\n",
    "    \n",
    "#Plot it out, foo'\n",
    "\n",
    "x = south_hemi_df['Lat']\n",
    "y = south_hemi_df['Max Temp']\n",
    "line_regr(x,y,'Max Temp')\n",
    "\n",
    "plt.savefig(\"SH_temp_vs_lat.png\")"
   ]
  },
  {
   "cell_type": "code",
   "execution_count": 18,
   "metadata": {},
   "outputs": [
    {
     "name": "stdout",
     "output_type": "stream",
     "text": [
      "r-squared: -0.8729977230536641\n"
     ]
    },
    {
     "data": {
      "image/png": "[encoded data removed]",
      "text/plain": [
       "<Figure size 432x288 with 1 Axes>"
      ]
     },
     "metadata": {
      "needs_background": "light"
     },
     "output_type": "display_data"
    }
   ],
   "source": [
    "x = north_hemi_df['Lat']\n",
    "y = north_hemi_df['Max Temp']\n",
    "line_regr(x,y,'Max Temp')"
   ]
  },
  {
   "cell_type": "markdown",
   "metadata": {},
   "source": [
    "####  Northern Hemisphere - Humidity (%) vs. Latitude Linear Regression"
   ]
  },
  {
   "cell_type": "code",
   "execution_count": 19,
   "metadata": {},
   "outputs": [
    {
     "name": "stdout",
     "output_type": "stream",
     "text": [
      "r-squared: 0.14329014035087964\n"
     ]
    },
    {
     "data": {
      "image/png": "[encoded data removed]",
      "text/plain": [
       "<Figure size 432x288 with 1 Axes>"
      ]
     },
     "metadata": {
      "needs_background": "light"
     },
     "output_type": "display_data"
    },
    {
     "data": {
      "text/plain": [
       "<Figure size 432x288 with 0 Axes>"
      ]
     },
     "metadata": {},
     "output_type": "display_data"
    }
   ],
   "source": [
    "x = north_hemi_df['Lat']\n",
    "y = north_hemi_df['Humidity']\n",
    "line_regr(x,y,'Humidity')\n",
    "\n",
    "plt.savefig(\"NH_hum_vs_lat.png\")"
   ]
  },
  {
   "cell_type": "code",
   "execution_count": null,
   "metadata": {},
   "outputs": [],
   "source": []
  },
  {
   "cell_type": "markdown",
   "metadata": {},
   "source": [
    "####  Southern Hemisphere - Humidity (%) vs. Latitude Linear Regression"
   ]
  },
  {
   "cell_type": "code",
   "execution_count": 20,
   "metadata": {},
   "outputs": [
    {
     "name": "stdout",
     "output_type": "stream",
     "text": [
      "r-squared: 0.12326046966728527\n"
     ]
    },
    {
     "data": {
      "image/png": "[encoded data removed]",
      "text/plain": [
       "<Figure size 432x288 with 1 Axes>"
      ]
     },
     "metadata": {
      "needs_background": "light"
     },
     "output_type": "display_data"
    },
    {
     "data": {
      "text/plain": [
       "<Figure size 432x288 with 0 Axes>"
      ]
     },
     "metadata": {},
     "output_type": "display_data"
    }
   ],
   "source": [
    "x = south_hemi_df['Lat']\n",
    "y = south_hemi_df['Humidity']\n",
    "line_regr(x,y,'Humidity')\n",
    "\n",
    "plt.savefig(\"SH_hum_vs_lat.png\")"
   ]
  },
  {
   "cell_type": "markdown",
   "metadata": {},
   "source": [
    "####  Northern Hemisphere - Cloudiness (%) vs. Latitude Linear Regression"
   ]
  },
  {
   "cell_type": "code",
   "execution_count": 21,
   "metadata": {},
   "outputs": [
    {
     "name": "stdout",
     "output_type": "stream",
     "text": [
      "r-squared: 0.07334937769914823\n"
     ]
    },
    {
     "data": {
      "image/png": "[encoded data removed]",
      "text/plain": [
       "<Figure size 432x288 with 1 Axes>"
      ]
     },
     "metadata": {
      "needs_background": "light"
     },
     "output_type": "display_data"
    },
    {
     "data": {
      "text/plain": [
       "<Figure size 432x288 with 0 Axes>"
      ]
     },
     "metadata": {},
     "output_type": "display_data"
    }
   ],
   "source": [
    "x = north_hemi_df['Lat']\n",
    "y = north_hemi_df['Cloudiness']\n",
    "line_regr(x,y,'Cloudiness')\n",
    "\n",
    "plt.savefig(\"NH_cloud_vs_lat.png\")"
   ]
  },
  {
   "cell_type": "markdown",
   "metadata": {},
   "source": [
    "####  Southern Hemisphere - Cloudiness (%) vs. Latitude Linear Regression"
   ]
  },
  {
   "cell_type": "code",
   "execution_count": 22,
   "metadata": {},
   "outputs": [
    {
     "name": "stdout",
     "output_type": "stream",
     "text": [
      "r-squared: 0.1682016049684506\n"
     ]
    },
    {
     "data": {
      "image/png": "[encoded data removed]",
      "text/plain": [
       "<Figure size 432x288 with 1 Axes>"
      ]
     },
     "metadata": {
      "needs_background": "light"
     },
     "output_type": "display_data"
    },
    {
     "data": {
      "text/plain": [
       "<Figure size 432x288 with 0 Axes>"
      ]
     },
     "metadata": {},
     "output_type": "display_data"
    }
   ],
   "source": [
    "x = south_hemi_df['Lat']\n",
    "y = south_hemi_df['Cloudiness']\n",
    "line_regr(x,y,'Max Temp')\n",
    "\n",
    "plt.savefig(\"SH_cloud_vs_lat.png\")"
   ]
  },
  {
   "cell_type": "markdown",
   "metadata": {},
   "source": [
    "####  Northern Hemisphere - Wind Speed (mph) vs. Latitude Linear Regression"
   ]
  },
  {
   "cell_type": "code",
   "execution_count": 24,
   "metadata": {},
   "outputs": [
    {
     "name": "stdout",
     "output_type": "stream",
     "text": [
      "r-squared: 0.01936033926044725\n"
     ]
    },
    {
     "data": {
      "image/png": "[encoded data removed]",
      "text/plain": [
       "<Figure size 432x288 with 1 Axes>"
      ]
     },
     "metadata": {
      "needs_background": "light"
     },
     "output_type": "display_data"
    },
    {
     "data": {
      "text/plain": [
       "<Figure size 432x288 with 0 Axes>"
      ]
     },
     "metadata": {},
     "output_type": "display_data"
    }
   ],
   "source": [
    "x = north_hemi_df['Lat']\n",
    "y = north_hemi_df['Wind Speed']\n",
    "line_regr(x,y,'Wind Speed')\n",
    "\n",
    "plt.savefig(\"NH_ws_vs_lat.png\")"
   ]
  },
  {
   "cell_type": "markdown",
   "metadata": {},
   "source": [
    "####  Southern Hemisphere - Wind Speed (mph) vs. Latitude Linear Regression"
   ]
  },
  {
   "cell_type": "code",
   "execution_count": 25,
   "metadata": {},
   "outputs": [
    {
     "name": "stdout",
     "output_type": "stream",
     "text": [
      "r-squared: -0.03958896271511522\n"
     ]
    },
    {
     "data": {
      "image/png": "[encoded data removed]",
      "text/plain": [
       "<Figure size 432x288 with 1 Axes>"
      ]
     },
     "metadata": {
      "needs_background": "light"
     },
     "output_type": "display_data"
    },
    {
     "data": {
      "text/plain": [
       "<Figure size 432x288 with 0 Axes>"
      ]
     },
     "metadata": {},
     "output_type": "display_data"
    }
   ],
   "source": [
    "x = south_hemi_df['Lat']\n",
    "y = south_hemi_df['Wind Speed']\n",
    "line_regr(x,y,'Wind Speed')\n",
    "\n",
    "plt.savefig(\"NH_ws_vs_lat.png\")"
   ]
  },
  {
   "cell_type": "code",
   "execution_count": null,
   "metadata": {},
   "outputs": [],
   "source": []
  }
 ],
 "metadata": {
  "anaconda-cloud": {},
  "kernel_info": {
   "name": "python3"
  },
  "kernelspec": {
   "display_name": "Python 3",
   "language": "python",
   "name": "python3"
  },
  "language_info": {
   "codemirror_mode": {
    "name": "ipython",
    "version": 3
   },
   "file_extension": ".py",
   "mimetype": "text/x-python",
   "name": "python",
   "nbconvert_exporter": "python",
   "pygments_lexer": "ipython3",
   "version": "3.8.5"
  },
  "latex_envs": {
   "LaTeX_envs_menu_present": true,
   "autoclose": false,
   "autocomplete": true,
   "bibliofile": "biblio.bib",
   "cite_by": "apalike",
   "current_citInitial": 1,
   "eqLabelWithNumbers": true,
   "eqNumInitial": 1,
   "hotkeys": {
    "equation": "Ctrl-E",
    "itemize": "Ctrl-I"
   },
   "labels_anchors": false,
   "latex_user_defs": false,
   "report_style_numbering": false,
   "user_envs_cfg": false
  },
  "nteract": {
   "version": "0.12.3"
  }
 },
 "nbformat": 4,
 "nbformat_minor": 4
}
